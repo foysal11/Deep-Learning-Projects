{
  "nbformat": 4,
  "nbformat_minor": 0,
  "metadata": {
    "colab": {
      "name": "Enzyme classification using LSTM.ipynb",
      "provenance": [],
      "collapsed_sections": []
    },
    "kernelspec": {
      "name": "python3",
      "display_name": "Python 3"
    }
  },
  "cells": [
    {
      "cell_type": "code",
      "metadata": {
        "id": "4PmdABsYlWtg",
        "outputId": "c20c51fb-a6c8-44d3-a8ec-55500eb53445",
        "colab": {
          "base_uri": "https://localhost:8080/"
        }
      },
      "source": [
        "from google.colab import drive\n",
        "drive.mount('/content/gdrive')"
      ],
      "execution_count": null,
      "outputs": [
        {
          "output_type": "stream",
          "text": [
            "Mounted at /content/gdrive\n"
          ],
          "name": "stdout"
        }
      ]
    },
    {
      "cell_type": "code",
      "metadata": {
        "id": "E2mbX3GWlfB5"
      },
      "source": [
        "import numpy as np # linear algebra\n",
        "import pandas as pd # data processing, CSV file I/O (e.g. pd.read_csv)\n",
        "import os\n",
        "import pandas as pd\n",
        "import numpy as np\n",
        "from matplotlib import pyplot as plt\n",
        "import seaborn as sns\n",
        "from sklearn.feature_extraction.text import CountVectorizer\n",
        "from sklearn.model_selection import train_test_split\n",
        "from sklearn.metrics import accuracy_score, confusion_matrix, classification_report"
      ],
      "execution_count": null,
      "outputs": []
    },
    {
      "cell_type": "code",
      "metadata": {
        "id": "_cENqavllg55"
      },
      "source": [
        "# Import Datasets\n",
        "df_seq = pd.read_csv('/content/gdrive/My Drive/Bioinformatics/pdb_data_seq.csv')\n",
        "df_char = pd.read_csv('/content/gdrive/My Drive/Bioinformatics/pdb_data_no_dups.csv')"
      ],
      "execution_count": null,
      "outputs": []
    },
    {
      "cell_type": "code",
      "metadata": {
        "id": "NKEStTVUlvVA",
        "outputId": "0a588183-c310-41cc-8982-76f70d4daad2",
        "colab": {
          "base_uri": "https://localhost:8080/",
          "height": 198
        }
      },
      "source": [
        "# 2). ----- Filter and Process Dataset ------\n",
        "\n",
        "# Filter for only proteins\n",
        "protein_char = df_char[df_char.macromoleculeType == 'Protein']\n",
        "protein_seq = df_seq[df_seq.macromoleculeType == 'Protein']\n",
        "\n",
        "# Select only necessary variables to join\n",
        "protein_char = protein_char[['structureId','classification']]\n",
        "protein_seq = protein_seq[['structureId','sequence']]\n",
        "protein_seq.head()"
      ],
      "execution_count": null,
      "outputs": [
        {
          "output_type": "execute_result",
          "data": {
            "text/html": [
              "<div>\n",
              "<style scoped>\n",
              "    .dataframe tbody tr th:only-of-type {\n",
              "        vertical-align: middle;\n",
              "    }\n",
              "\n",
              "    .dataframe tbody tr th {\n",
              "        vertical-align: top;\n",
              "    }\n",
              "\n",
              "    .dataframe thead th {\n",
              "        text-align: right;\n",
              "    }\n",
              "</style>\n",
              "<table border=\"1\" class=\"dataframe\">\n",
              "  <thead>\n",
              "    <tr style=\"text-align: right;\">\n",
              "      <th></th>\n",
              "      <th>structureId</th>\n",
              "      <th>sequence</th>\n",
              "    </tr>\n",
              "  </thead>\n",
              "  <tbody>\n",
              "    <tr>\n",
              "      <th>4</th>\n",
              "      <td>101M</td>\n",
              "      <td>MVLSEGEWQLVLHVWAKVEADVAGHGQDILIRLFKSHPETLEKFDR...</td>\n",
              "    </tr>\n",
              "    <tr>\n",
              "      <th>7</th>\n",
              "      <td>102L</td>\n",
              "      <td>MNIFEMLRIDEGLRLKIYKDTEGYYTIGIGHLLTKSPSLNAAAKSE...</td>\n",
              "    </tr>\n",
              "    <tr>\n",
              "      <th>8</th>\n",
              "      <td>102M</td>\n",
              "      <td>MVLSEGEWQLVLHVWAKVEADVAGHGQDILIRLFKSHPETLEKFDR...</td>\n",
              "    </tr>\n",
              "    <tr>\n",
              "      <th>11</th>\n",
              "      <td>103L</td>\n",
              "      <td>MNIFEMLRIDEGLRLKIYKDTEGYYTIGIGHLLTKSPSLNSLDAAK...</td>\n",
              "    </tr>\n",
              "    <tr>\n",
              "      <th>12</th>\n",
              "      <td>103M</td>\n",
              "      <td>MVLSEGEWQLVLHVWAKVEADVAGHGQDILIRLFKSHPETLEKFDR...</td>\n",
              "    </tr>\n",
              "  </tbody>\n",
              "</table>\n",
              "</div>"
            ],
            "text/plain": [
              "   structureId                                           sequence\n",
              "4         101M  MVLSEGEWQLVLHVWAKVEADVAGHGQDILIRLFKSHPETLEKFDR...\n",
              "7         102L  MNIFEMLRIDEGLRLKIYKDTEGYYTIGIGHLLTKSPSLNAAAKSE...\n",
              "8         102M  MVLSEGEWQLVLHVWAKVEADVAGHGQDILIRLFKSHPETLEKFDR...\n",
              "11        103L  MNIFEMLRIDEGLRLKIYKDTEGYYTIGIGHLLTKSPSLNSLDAAK...\n",
              "12        103M  MVLSEGEWQLVLHVWAKVEADVAGHGQDILIRLFKSHPETLEKFDR..."
            ]
          },
          "metadata": {
            "tags": []
          },
          "execution_count": 8
        }
      ]
    },
    {
      "cell_type": "code",
      "metadata": {
        "id": "vYCQB7eOly1s",
        "outputId": "c04e9e3c-a027-4886-b323-cbb00fc9e422",
        "colab": {
          "base_uri": "https://localhost:8080/",
          "height": 198
        }
      },
      "source": [
        "protein_char.head()"
      ],
      "execution_count": null,
      "outputs": [
        {
          "output_type": "execute_result",
          "data": {
            "text/html": [
              "<div>\n",
              "<style scoped>\n",
              "    .dataframe tbody tr th:only-of-type {\n",
              "        vertical-align: middle;\n",
              "    }\n",
              "\n",
              "    .dataframe tbody tr th {\n",
              "        vertical-align: top;\n",
              "    }\n",
              "\n",
              "    .dataframe thead th {\n",
              "        text-align: right;\n",
              "    }\n",
              "</style>\n",
              "<table border=\"1\" class=\"dataframe\">\n",
              "  <thead>\n",
              "    <tr style=\"text-align: right;\">\n",
              "      <th></th>\n",
              "      <th>structureId</th>\n",
              "      <th>classification</th>\n",
              "    </tr>\n",
              "  </thead>\n",
              "  <tbody>\n",
              "    <tr>\n",
              "      <th>2</th>\n",
              "      <td>101M</td>\n",
              "      <td>OXYGEN TRANSPORT</td>\n",
              "    </tr>\n",
              "    <tr>\n",
              "      <th>4</th>\n",
              "      <td>102L</td>\n",
              "      <td>HYDROLASE(O-GLYCOSYL)</td>\n",
              "    </tr>\n",
              "    <tr>\n",
              "      <th>5</th>\n",
              "      <td>102M</td>\n",
              "      <td>OXYGEN TRANSPORT</td>\n",
              "    </tr>\n",
              "    <tr>\n",
              "      <th>7</th>\n",
              "      <td>103L</td>\n",
              "      <td>HYDROLASE(O-GLYCOSYL)</td>\n",
              "    </tr>\n",
              "    <tr>\n",
              "      <th>8</th>\n",
              "      <td>103M</td>\n",
              "      <td>OXYGEN TRANSPORT</td>\n",
              "    </tr>\n",
              "  </tbody>\n",
              "</table>\n",
              "</div>"
            ],
            "text/plain": [
              "  structureId         classification\n",
              "2        101M       OXYGEN TRANSPORT\n",
              "4        102L  HYDROLASE(O-GLYCOSYL)\n",
              "5        102M       OXYGEN TRANSPORT\n",
              "7        103L  HYDROLASE(O-GLYCOSYL)\n",
              "8        103M       OXYGEN TRANSPORT"
            ]
          },
          "metadata": {
            "tags": []
          },
          "execution_count": 9
        }
      ]
    },
    {
      "cell_type": "code",
      "metadata": {
        "id": "Pshfogo-lzkZ",
        "outputId": "bf708235-4a46-4549-b858-0129556a989c",
        "colab": {
          "base_uri": "https://localhost:8080/",
          "height": 228
        }
      },
      "source": [
        "model_f = protein_char.set_index('structureId').join(protein_seq.set_index('structureId'))\n",
        "model_f.head()"
      ],
      "execution_count": null,
      "outputs": [
        {
          "output_type": "execute_result",
          "data": {
            "text/html": [
              "<div>\n",
              "<style scoped>\n",
              "    .dataframe tbody tr th:only-of-type {\n",
              "        vertical-align: middle;\n",
              "    }\n",
              "\n",
              "    .dataframe tbody tr th {\n",
              "        vertical-align: top;\n",
              "    }\n",
              "\n",
              "    .dataframe thead th {\n",
              "        text-align: right;\n",
              "    }\n",
              "</style>\n",
              "<table border=\"1\" class=\"dataframe\">\n",
              "  <thead>\n",
              "    <tr style=\"text-align: right;\">\n",
              "      <th></th>\n",
              "      <th>classification</th>\n",
              "      <th>sequence</th>\n",
              "    </tr>\n",
              "    <tr>\n",
              "      <th>structureId</th>\n",
              "      <th></th>\n",
              "      <th></th>\n",
              "    </tr>\n",
              "  </thead>\n",
              "  <tbody>\n",
              "    <tr>\n",
              "      <th>101M</th>\n",
              "      <td>OXYGEN TRANSPORT</td>\n",
              "      <td>MVLSEGEWQLVLHVWAKVEADVAGHGQDILIRLFKSHPETLEKFDR...</td>\n",
              "    </tr>\n",
              "    <tr>\n",
              "      <th>102L</th>\n",
              "      <td>HYDROLASE(O-GLYCOSYL)</td>\n",
              "      <td>MNIFEMLRIDEGLRLKIYKDTEGYYTIGIGHLLTKSPSLNAAAKSE...</td>\n",
              "    </tr>\n",
              "    <tr>\n",
              "      <th>102M</th>\n",
              "      <td>OXYGEN TRANSPORT</td>\n",
              "      <td>MVLSEGEWQLVLHVWAKVEADVAGHGQDILIRLFKSHPETLEKFDR...</td>\n",
              "    </tr>\n",
              "    <tr>\n",
              "      <th>103L</th>\n",
              "      <td>HYDROLASE(O-GLYCOSYL)</td>\n",
              "      <td>MNIFEMLRIDEGLRLKIYKDTEGYYTIGIGHLLTKSPSLNSLDAAK...</td>\n",
              "    </tr>\n",
              "    <tr>\n",
              "      <th>103M</th>\n",
              "      <td>OXYGEN TRANSPORT</td>\n",
              "      <td>MVLSEGEWQLVLHVWAKVEADVAGHGQDILIRLFKSHPETLEKFDR...</td>\n",
              "    </tr>\n",
              "  </tbody>\n",
              "</table>\n",
              "</div>"
            ],
            "text/plain": [
              "                    classification                                           sequence\n",
              "structureId                                                                          \n",
              "101M              OXYGEN TRANSPORT  MVLSEGEWQLVLHVWAKVEADVAGHGQDILIRLFKSHPETLEKFDR...\n",
              "102L         HYDROLASE(O-GLYCOSYL)  MNIFEMLRIDEGLRLKIYKDTEGYYTIGIGHLLTKSPSLNAAAKSE...\n",
              "102M              OXYGEN TRANSPORT  MVLSEGEWQLVLHVWAKVEADVAGHGQDILIRLFKSHPETLEKFDR...\n",
              "103L         HYDROLASE(O-GLYCOSYL)  MNIFEMLRIDEGLRLKIYKDTEGYYTIGIGHLLTKSPSLNSLDAAK...\n",
              "103M              OXYGEN TRANSPORT  MVLSEGEWQLVLHVWAKVEADVAGHGQDILIRLFKSHPETLEKFDR..."
            ]
          },
          "metadata": {
            "tags": []
          },
          "execution_count": 10
        }
      ]
    },
    {
      "cell_type": "code",
      "metadata": {
        "id": "nRM9FFwdl2Ko",
        "outputId": "d03a8811-a5ef-414d-f708-f561fc95b36c",
        "colab": {
          "base_uri": "https://localhost:8080/"
        }
      },
      "source": [
        "# Check NA counts\n",
        "model_f.isnull().sum()"
      ],
      "execution_count": null,
      "outputs": [
        {
          "output_type": "execute_result",
          "data": {
            "text/plain": [
              "classification      1\n",
              "sequence          469\n",
              "dtype: int64"
            ]
          },
          "metadata": {
            "tags": []
          },
          "execution_count": 11
        }
      ]
    },
    {
      "cell_type": "code",
      "metadata": {
        "id": "yNk7myMFl6bl",
        "outputId": "2b69a956-23df-4f23-8ab5-237359b56a18",
        "colab": {
          "base_uri": "https://localhost:8080/"
        }
      },
      "source": [
        "# Drop rows with missing values\n",
        "model_f = model_f.dropna()\n",
        "print('%d is the number of proteins that have a classification and sequence' %model_f.shape[0])"
      ],
      "execution_count": null,
      "outputs": [
        {
          "output_type": "stream",
          "text": [
            "345197 is the number of proteins that have a classification and sequence\n"
          ],
          "name": "stdout"
        }
      ]
    },
    {
      "cell_type": "code",
      "metadata": {
        "id": "Ky8Z0C1Zl88F",
        "outputId": "b4a51c0f-5359-46e7-f59e-8b795703b902",
        "colab": {
          "base_uri": "https://localhost:8080/",
          "height": 569
        }
      },
      "source": [
        "# Look at classification type counts\n",
        "counts = model_f.classification.value_counts()\n",
        "print(counts)\n",
        "\n",
        "#plot counts\n",
        "plt.figure()\n",
        "sns.distplot(counts, hist = False, color = 'purple')\n",
        "plt.title('Count Distribution for Family Types')\n",
        "plt.ylabel('% of records')\n",
        "plt.show()"
      ],
      "execution_count": null,
      "outputs": [
        {
          "output_type": "stream",
          "text": [
            "HYDROLASE                         46193\n",
            "TRANSFERASE                       36264\n",
            "OXIDOREDUCTASE                    34223\n",
            "IMMUNE SYSTEM                     15586\n",
            "LYASE                             11644\n",
            "                                  ...  \n",
            "GLYCOGEN METABOLISM                   1\n",
            "SAPOSIN FOLD                          1\n",
            "Sterol binding protein                1\n",
            "LIPID BINDING, PEPTIDE BINDING        1\n",
            "Cytokine, Signaling Protein           1\n",
            "Name: classification, Length: 4458, dtype: int64\n"
          ],
          "name": "stdout"
        },
        {
          "output_type": "stream",
          "text": [
            "/usr/local/lib/python3.6/dist-packages/seaborn/distributions.py:2551: FutureWarning: `distplot` is a deprecated function and will be removed in a future version. Please adapt your code to use either `displot` (a figure-level function with similar flexibility) or `kdeplot` (an axes-level function for kernel density plots).\n",
            "  warnings.warn(msg, FutureWarning)\n"
          ],
          "name": "stderr"
        },
        {
          "output_type": "display_data",
          "data": {
            "image/png": "[encoded data removed]",
            "text/plain": [
              "<Figure size 432x288 with 1 Axes>"
            ]
          },
          "metadata": {
            "tags": [],
            "needs_background": "light"
          }
        }
      ]
    },
    {
      "cell_type": "code",
      "metadata": {
        "id": "tSYyQnNlPz0f",
        "outputId": "5a6dd08c-8ede-4a77-d86c-d534f5127f19",
        "colab": {
          "base_uri": "https://localhost:8080/"
        }
      },
      "source": [
        "print(counts['HYDROLASE'])\n",
        "print(counts['LIGASE'])\n",
        "print(counts['TRANSFERASE'])\n",
        "print(counts['OXIDOREDUCTASE'])\n",
        "print(counts['ISOMERASE'])\n",
        "print(counts['LYASE'])"
      ],
      "execution_count": null,
      "outputs": [
        {
          "output_type": "stream",
          "text": [
            "46193\n",
            "4926\n",
            "36264\n",
            "34223\n",
            "6345\n",
            "11644\n"
          ],
          "name": "stdout"
        }
      ]
    },
    {
      "cell_type": "code",
      "metadata": {
        "id": "8IXiqK1s6DOG"
      },
      "source": [
        "max_length=model_f[\"sequence\"].str.len().max()"
      ],
      "execution_count": null,
      "outputs": []
    },
    {
      "cell_type": "code",
      "metadata": {
        "id": "3MnX7IRql_u_",
        "outputId": "201f2eda-429a-419c-c66b-2b9fc2d0df20",
        "colab": {
          "base_uri": "https://localhost:8080/"
        }
      },
      "source": [
        "# Get classification types where counts are over 1000\n",
        "#types = np.asarray(counts[(counts > 1000)].index)\n",
        "types=['HYDROLASE'\n",
        ",'LIGASE'\n",
        ",'TRANSFERASE'\n",
        ",'OXIDOREDUCTASE'\n",
        ",'ISOMERASE'\n",
        ",'LYASE']\n",
        "\n",
        "# Filter dataset's records for classification types > 1000\n",
        "data = model_f[model_f.classification.isin(types)]\n",
        "\n",
        "#data_m = data[(data['classification'] =='HYDROLASE' )  (data['classification'] =='LIGASE' ) or (data['classification'] =='TRANSFERASE' ) or (data['classification'] =='OXIDOREDUCTASE' ) or (data['classification'] =='ISOMERASE' ) or (data['classification'] =='LYASE' )]\n",
        "\n",
        "print(types)\n",
        "print('%d is the number of records in the final filtered dataset' %data.shape[0])"
      ],
      "execution_count": null,
      "outputs": [
        {
          "output_type": "stream",
          "text": [
            "['HYDROLASE', 'LIGASE', 'TRANSFERASE', 'OXIDOREDUCTASE', 'ISOMERASE', 'LYASE']\n",
            "139595 is the number of records in the final filtered dataset\n"
          ],
          "name": "stdout"
        }
      ]
    },
    {
      "cell_type": "code",
      "metadata": {
        "id": "ocFhz6J0mCnU",
        "outputId": "af88ba70-7c28-4b70-972c-52020b10990d",
        "colab": {
          "base_uri": "https://localhost:8080/"
        }
      },
      "source": [
        "train=data\n",
        "a=train.classification.unique()\n",
        "l=len(train.classification.unique())\n",
        "print(a)"
      ],
      "execution_count": null,
      "outputs": [
        {
          "output_type": "stream",
          "text": [
            "['HYDROLASE' 'LIGASE' 'TRANSFERASE' 'OXIDOREDUCTASE' 'ISOMERASE' 'LYASE']\n"
          ],
          "name": "stdout"
        }
      ]
    },
    {
      "cell_type": "code",
      "metadata": {
        "id": "10ZcX8vTmaOL",
        "outputId": "72e6643f-83c9-44ef-9e38-b4d37a02bec0",
        "colab": {
          "base_uri": "https://localhost:8080/"
        }
      },
      "source": [
        "for i in range (l):\n",
        "    train.classification = train.classification.replace(a[i], i)"
      ],
      "execution_count": null,
      "outputs": [
        {
          "output_type": "stream",
          "text": [
            "/usr/local/lib/python3.6/dist-packages/pandas/core/generic.py:5168: SettingWithCopyWarning: \n",
            "A value is trying to be set on a copy of a slice from a DataFrame.\n",
            "Try using .loc[row_indexer,col_indexer] = value instead\n",
            "\n",
            "See the caveats in the documentation: https://pandas.pydata.org/pandas-docs/stable/user_guide/indexing.html#returning-a-view-versus-a-copy\n",
            "  self[name] = value\n"
          ],
          "name": "stderr"
        }
      ]
    },
    {
      "cell_type": "code",
      "metadata": {
        "id": "ocjki6hTmdGp",
        "outputId": "065ee577-6de8-47da-a358-254347e048eb",
        "colab": {
          "base_uri": "https://localhost:8080/"
        }
      },
      "source": [
        "train.classification.head()"
      ],
      "execution_count": null,
      "outputs": [
        {
          "output_type": "execute_result",
          "data": {
            "text/plain": [
              "structureId\n",
              "117E    0\n",
              "117E    0\n",
              "11AS    1\n",
              "11AS    1\n",
              "11BA    0\n",
              "Name: classification, dtype: int64"
            ]
          },
          "metadata": {
            "tags": []
          },
          "execution_count": 19
        }
      ]
    },
    {
      "cell_type": "code",
      "metadata": {
        "id": "x4wsc-homfT0",
        "outputId": "c1270164-62f8-44d5-ea34-91c101272a5a",
        "colab": {
          "base_uri": "https://localhost:8080/"
        }
      },
      "source": [
        "train.classification.value_counts()"
      ],
      "execution_count": null,
      "outputs": [
        {
          "output_type": "execute_result",
          "data": {
            "text/plain": [
              "0    46193\n",
              "2    36264\n",
              "3    34223\n",
              "5    11644\n",
              "4     6345\n",
              "1     4926\n",
              "Name: classification, dtype: int64"
            ]
          },
          "metadata": {
            "tags": []
          },
          "execution_count": 20
        }
      ]
    },
    {
      "cell_type": "code",
      "metadata": {
        "id": "eII-X2lQmoEf",
        "outputId": "62bcffec-accc-471a-e46f-d177b2d20644",
        "colab": {
          "base_uri": "https://localhost:8080/"
        }
      },
      "source": [
        "df = train\n",
        "df.classification = df.classification.astype(int)"
      ],
      "execution_count": null,
      "outputs": [
        {
          "output_type": "stream",
          "text": [
            "/usr/local/lib/python3.6/dist-packages/pandas/core/generic.py:5168: SettingWithCopyWarning: \n",
            "A value is trying to be set on a copy of a slice from a DataFrame.\n",
            "Try using .loc[row_indexer,col_indexer] = value instead\n",
            "\n",
            "See the caveats in the documentation: https://pandas.pydata.org/pandas-docs/stable/user_guide/indexing.html#returning-a-view-versus-a-copy\n",
            "  self[name] = value\n"
          ],
          "name": "stderr"
        }
      ]
    },
    {
      "cell_type": "code",
      "metadata": {
        "id": "p9zRMfaQmv7W"
      },
      "source": [
        "from sklearn.model_selection import train_test_split\n",
        "from sklearn.preprocessing import LabelBinarizer\n",
        "from keras.preprocessing.text import Tokenizer\n",
        "from keras.preprocessing.sequence import pad_sequences\n",
        "from sklearn.feature_extraction.text import TfidfVectorizer\n",
        "from keras.layers import SpatialDropout1D\n",
        "from keras.utils import to_categorical\n",
        "from sklearn.metrics import classification_report\n",
        "from sklearn.metrics import roc_auc_score\n",
        "from sklearn.metrics import roc_curve\n",
        "from sklearn.metrics import precision_recall_curve\n",
        "from sklearn.model_selection import GridSearchCV\n",
        "from keras.models import Sequential\n",
        "from keras.layers import Dense\n",
        "from keras.layers import LSTM\n",
        "from keras.layers import Dropout\n",
        "from keras.layers import Bidirectional\n",
        "from keras.layers import GlobalMaxPool1D\n",
        "from keras.utils import plot_model\n",
        "from keras.layers.embeddings import Embedding\n",
        "from keras.preprocessing import sequence\n",
        "from keras.callbacks import EarlyStopping\n",
        "from sklearn.feature_selection import RFE\n",
        "import re"
      ],
      "execution_count": null,
      "outputs": []
    },
    {
      "cell_type": "code",
      "metadata": {
        "id": "uHI7PHBEm3yo",
        "outputId": "70c21c5f-8f19-4cae-f2c2-d736b0e7a7d1",
        "colab": {
          "base_uri": "https://localhost:8080/"
        }
      },
      "source": [
        "# The maximum number of words to be used. (most frequent)\n",
        "MAX_NB_WORDS = 50000\n",
        "# Max number of words in each complaint.\n",
        "MAX_SEQUENCE_LENGTH = 250\n",
        "# This is fixed.\n",
        "EMBEDDING_DIM = 100\n",
        "tokenizer = Tokenizer(num_words=MAX_NB_WORDS, filters='!\"#$%&()*+,-./:;<=>?@[\\]^_`{|}~।', lower=False)\n",
        "tokenizer.fit_on_texts(df.sequence.values)\n",
        "word_index = tokenizer.word_index\n",
        "print('Found %s unique tokens.' % len(word_index))"
      ],
      "execution_count": null,
      "outputs": [
        {
          "output_type": "stream",
          "text": [
            "Found 34735 unique tokens.\n"
          ],
          "name": "stdout"
        }
      ]
    },
    {
      "cell_type": "code",
      "metadata": {
        "id": "_zDnb4Bum8LL",
        "outputId": "bc53b3c6-92a8-4d25-f85b-02f90a1b1d49",
        "colab": {
          "base_uri": "https://localhost:8080/"
        }
      },
      "source": [
        "X = tokenizer.texts_to_sequences(df.sequence.values)\n",
        "X = pad_sequences(X, maxlen=MAX_SEQUENCE_LENGTH)\n",
        "print('Shape of data tensor:', X.shape)"
      ],
      "execution_count": null,
      "outputs": [
        {
          "output_type": "stream",
          "text": [
            "Shape of data tensor: (139595, 250)\n"
          ],
          "name": "stdout"
        }
      ]
    },
    {
      "cell_type": "code",
      "metadata": {
        "id": "GBIO9NbInAyM",
        "outputId": "69b35a0d-fbbb-473d-f36d-2f709f82cf3b",
        "colab": {
          "base_uri": "https://localhost:8080/"
        }
      },
      "source": [
        "Y = pd.get_dummies(df.classification).values\n",
        "print('Shape of label tensor:', Y.shape)"
      ],
      "execution_count": null,
      "outputs": [
        {
          "output_type": "stream",
          "text": [
            "Shape of label tensor: (139595, 6)\n"
          ],
          "name": "stdout"
        }
      ]
    },
    {
      "cell_type": "code",
      "metadata": {
        "id": "PtVYqSwJnBZ-"
      },
      "source": [
        "train_features, test_features, train_labels, test_labels = train_test_split(X, Y, test_size=.10)"
      ],
      "execution_count": null,
      "outputs": []
    },
    {
      "cell_type": "code",
      "metadata": {
        "id": "N2W9OQrVnDL2",
        "outputId": "84665a6a-b120-462a-b8b7-847733fa1e2f",
        "colab": {
          "base_uri": "https://localhost:8080/",
          "height": 989
        }
      },
      "source": [
        "\n",
        "model = Sequential()\n",
        "model.add(Embedding(MAX_NB_WORDS, EMBEDDING_DIM, input_length=X.shape[1]))\n",
        "model.add(LSTM(64))\n",
        "model.add(Dense(256, activation='relu'))\n",
        "model.add(Dropout(0.5))\n",
        "model.add(Dense(l, activation='softmax'))\n",
        "model.compile(loss='categorical_crossentropy', optimizer='adam', metrics=['accuracy'])\n",
        "print(model.summary())\n",
        "\n",
        "plot_model(model,'qw.png',show_shapes=True)\n"
      ],
      "execution_count": null,
      "outputs": [
        {
          "output_type": "stream",
          "text": [
            "Model: \"sequential\"\n",
            "_________________________________________________________________\n",
            "Layer (type)                 Output Shape              Param #   \n",
            "=================================================================\n",
            "embedding (Embedding)        (None, 250, 100)          5000000   \n",
            "_________________________________________________________________\n",
            "lstm (LSTM)                  (None, 64)                42240     \n",
            "_________________________________________________________________\n",
            "dense (Dense)                (None, 256)               16640     \n",
            "_________________________________________________________________\n",
            "dropout (Dropout)            (None, 256)               0         \n",
            "_________________________________________________________________\n",
            "dense_1 (Dense)              (None, 6)                 1542      \n",
            "=================================================================\n",
            "Total params: 5,060,422\n",
            "Trainable params: 5,060,422\n",
            "Non-trainable params: 0\n",
            "_________________________________________________________________\n",
            "None\n"
          ],
          "name": "stdout"
        },
        {
          "output_type": "execute_result",
          "data": {
            "image/png": "[encoded data removed]",
            "text/plain": [
              "<IPython.core.display.Image object>"
            ]
          },
          "metadata": {
            "tags": []
          },
          "execution_count": 27
        }
      ]
    },
    {
      "cell_type": "code",
      "metadata": {
        "id": "yAKHk4E8nFUv"
      },
      "source": [
        "epochs = 3\n",
        "batch_size = 128"
      ],
      "execution_count": null,
      "outputs": []
    },
    {
      "cell_type": "code",
      "metadata": {
        "id": "A56aR5RdnIKu",
        "outputId": "56f6bcc5-cfb2-4882-f8b4-b53cbfdfa579",
        "colab": {
          "base_uri": "https://localhost:8080/"
        }
      },
      "source": [
        "history = model.fit(train_features, train_labels, epochs=epochs, batch_size=batch_size,validation_split=0.1,callbacks=[EarlyStopping(monitor='val_loss', patience=3, min_delta=0.0001)])"
      ],
      "execution_count": null,
      "outputs": [
        {
          "output_type": "stream",
          "text": [
            "Epoch 1/3\n",
            "884/884 [==============================] - 373s 422ms/step - loss: 0.7621 - accuracy: 0.6924 - val_loss: 0.2516 - val_accuracy: 0.9036\n",
            "Epoch 2/3\n",
            "884/884 [==============================] - 382s 432ms/step - loss: 0.0671 - accuracy: 0.9798 - val_loss: 0.2187 - val_accuracy: 0.9195\n",
            "Epoch 3/3\n",
            "884/884 [==============================] - 383s 433ms/step - loss: 0.0264 - accuracy: 0.9933 - val_loss: 0.2071 - val_accuracy: 0.9288\n"
          ],
          "name": "stdout"
        }
      ]
    },
    {
      "cell_type": "code",
      "metadata": {
        "id": "YxLsGeymnOPk",
        "outputId": "a869370d-a1e9-4720-8d57-6fc929a33aa4",
        "colab": {
          "base_uri": "https://localhost:8080/"
        }
      },
      "source": [
        "accr = model.evaluate(test_features,test_labels)\n",
        "print('Test set\\n  Loss: {:0.3f}\\n  Accuracy: {:0.3f}'.format(accr[0],accr[1]))"
      ],
      "execution_count": null,
      "outputs": [
        {
          "output_type": "stream",
          "text": [
            "437/437 [==============================] - 13s 30ms/step - loss: 0.2096 - accuracy: 0.9264\n",
            "Test set\n",
            "  Loss: 0.210\n",
            "  Accuracy: 0.926\n"
          ],
          "name": "stdout"
        }
      ]
    },
    {
      "cell_type": "code",
      "metadata": {
        "id": "gAPd3gke5Alm",
        "outputId": "0f918936-8f70-443d-d17a-d774e1137da8",
        "colab": {
          "base_uri": "https://localhost:8080/",
          "height": 545
        }
      },
      "source": [
        "from matplotlib import pyplot as plt\n",
        "plt.title('Loss')\n",
        "plt.plot(history.history['loss'],'r', label='train')\n",
        "plt.plot(history.history['val_loss'],'b', label='test')\n",
        "plt.legend()\n",
        "plt.show()\n",
        "plt.title('Accuracy')\n",
        "plt.plot(history.history['accuracy'],'r', label='train')\n",
        "plt.plot(history.history['val_accuracy'],'b', label='test')\n",
        "plt.legend()\n",
        "plt.show()"
      ],
      "execution_count": null,
      "outputs": [
        {
          "output_type": "display_data",
          "data": {
            "image/png": "[encoded data removed]",
            "text/plain": [
              "<Figure size 432x288 with 1 Axes>"
            ]
          },
          "metadata": {
            "tags": [],
            "needs_background": "light"
          }
        },
        {
          "output_type": "display_data",
          "data": {
            "image/png": "[encoded data removed]",
            "text/plain": [
              "<Figure size 432x288 with 1 Axes>"
            ]
          },
          "metadata": {
            "tags": [],
            "needs_background": "light"
          }
        }
      ]
    },
    {
      "cell_type": "code",
      "metadata": {
        "id": "RJC6ZKwP5NH9"
      },
      "source": [
        "predicted_classes = model.predict(test_features)\n",
        "predicted_classes = np.argmax(np.round(predicted_classes),axis=1)\n",
        "#test_Y = np.argmax(np.round(test_labels),axis=1)"
      ],
      "execution_count": null,
      "outputs": []
    },
    {
      "cell_type": "code",
      "metadata": {
        "id": "YF424L9V5Sui",
        "outputId": "dc7030e9-12db-44f9-f51c-10752edcaabf",
        "colab": {
          "base_uri": "https://localhost:8080/"
        }
      },
      "source": [
        "predicted_classes.shape, test_labels.shape\n",
        "print(test_labels.shape)"
      ],
      "execution_count": null,
      "outputs": [
        {
          "output_type": "stream",
          "text": [
            "(13960, 6)\n"
          ],
          "name": "stdout"
        }
      ]
    },
    {
      "cell_type": "code",
      "metadata": {
        "id": "j9ZAWwqv5UOs",
        "outputId": "8066886c-ee02-48e0-cd4f-bfcd2f9da51c",
        "colab": {
          "base_uri": "https://localhost:8080/"
        }
      },
      "source": [
        "test_Y=[]\n",
        "for i in range (13960):\n",
        "    for j in range (6):\n",
        "        if(test_labels[i][j]==1):\n",
        "            test_Y.append(j)\n",
        "print(len(test_Y))"
      ],
      "execution_count": null,
      "outputs": [
        {
          "output_type": "stream",
          "text": [
            "13960\n"
          ],
          "name": "stdout"
        }
      ]
    },
    {
      "cell_type": "code",
      "metadata": {
        "id": "x9ykmxWl5bWg",
        "outputId": "d84800ad-1562-4d11-8f7f-1d79e3d90380",
        "colab": {
          "base_uri": "https://localhost:8080/"
        }
      },
      "source": [
        "from sklearn.metrics import classification_report\n",
        "target_names = [\"Class {}\".format(i) for i in range(6)]\n",
        "print(classification_report(test_Y, predicted_classes, target_names=target_names))"
      ],
      "execution_count": null,
      "outputs": [
        {
          "output_type": "stream",
          "text": [
            "              precision    recall  f1-score   support\n",
            "\n",
            "     Class 0       0.85      0.99      0.91      4722\n",
            "     Class 1       0.99      0.82      0.90       474\n",
            "     Class 2       0.97      0.89      0.93      3567\n",
            "     Class 3       0.99      0.92      0.95      3452\n",
            "     Class 4       0.98      0.88      0.92       598\n",
            "     Class 5       0.99      0.90      0.94      1147\n",
            "\n",
            "    accuracy                           0.93     13960\n",
            "   macro avg       0.96      0.90      0.93     13960\n",
            "weighted avg       0.94      0.93      0.93     13960\n",
            "\n"
          ],
          "name": "stdout"
        }
      ]
    },
    {
      "cell_type": "code",
      "metadata": {
        "id": "h2Lcskog7myA"
      },
      "source": [
        "name=[]\n",
        "for i in range(6):\n",
        "  name.append(i)\n"
      ],
      "execution_count": null,
      "outputs": []
    },
    {
      "cell_type": "code",
      "metadata": {
        "id": "-M7KnWlAgpRQ",
        "outputId": "531e58e4-38a1-4369-b86b-62a4e39b97ac",
        "colab": {
          "base_uri": "https://localhost:8080/",
          "height": 501
        }
      },
      "source": [
        "# Plot confusion matrix\n",
        "conf_mat = confusion_matrix(test_Y, predicted_classes, labels = name)\n",
        "\n",
        "#Normalize confusion_matrix\n",
        "conf_mat = conf_mat.astype('float')/ conf_mat.sum(axis=1)[:, np.newaxis]\n",
        "\n",
        "# Plot Heat Map\n",
        "fig , ax = plt.subplots()\n",
        "fig.set_size_inches(13, 8)\n",
        "sns.heatmap(conf_mat)"
      ],
      "execution_count": null,
      "outputs": [
        {
          "output_type": "execute_result",
          "data": {
            "text/plain": [
              "<matplotlib.axes._subplots.AxesSubplot at 0x7fea93a23b70>"
            ]
          },
          "metadata": {
            "tags": []
          },
          "execution_count": 37
        },
        {
          "output_type": "display_data",
          "data": {
            "image/png": "[encoded data removed]",
            "text/plain": [
              "<Figure size 936x576 with 2 Axes>"
            ]
          },
          "metadata": {
            "tags": [],
            "needs_background": "light"
          }
        }
      ]
    },
    {
      "cell_type": "code",
      "metadata": {
        "id": "kq9JIQFkIf83",
        "outputId": "1597f5d8-64e0-4d69-8507-8ff4944d5869",
        "colab": {
          "base_uri": "https://localhost:8080/",
          "height": 877
        }
      },
      "source": [
        "print(__doc__)\n",
        "\n",
        "import itertools\n",
        "import numpy as np\n",
        "import matplotlib.pyplot as plt\n",
        "\n",
        "from sklearn import svm, datasets\n",
        "from sklearn.model_selection import train_test_split\n",
        "from sklearn.metrics import confusion_matrix\n",
        "\n",
        "\n",
        "class_names = name\n",
        "\n",
        "def plot_confusion_matrix(cm, classes,\n",
        "                          normalize=False,\n",
        "                          title='Confusion matrix',\n",
        "                          cmap=plt.cm.Blues):\n",
        "    \"\"\"\n",
        "    This function prints and plots the confusion matrix.\n",
        "    Normalization can be applied by setting `normalize=True`.\n",
        "    \"\"\"\n",
        "    if normalize:\n",
        "        cm = cm.astype('float') / cm.sum(axis=1)[:, np.newaxis]\n",
        "        print(\"Normalized confusion matrix\")\n",
        "    else:\n",
        "        print('Confusion matrix, without normalization')\n",
        "\n",
        "    print(cm)\n",
        "\n",
        "    plt.imshow(cm, interpolation='nearest', cmap=cmap)\n",
        "    plt.title(title)\n",
        "    plt.colorbar()\n",
        "    tick_marks = np.arange(len(classes))\n",
        "    plt.xticks(tick_marks, classes, rotation=0)\n",
        "    plt.yticks(tick_marks, classes)\n",
        "\n",
        "    fmt = '.2f' if normalize else 'd'\n",
        "    thresh = cm.max() / 2.\n",
        "    for i, j in itertools.product(range(cm.shape[0]), range(cm.shape[1])):\n",
        "        plt.text(j, i, format(cm[i, j], fmt),\n",
        "                 horizontalalignment=\"center\",\n",
        "                 color=\"white\" if cm[i, j] > thresh else \"black\")\n",
        "\n",
        "    plt.tight_layout()\n",
        "    plt.ylabel('True label')\n",
        "    plt.xlabel('Predicted label')\n",
        "\n",
        "# Compute confusion matrix\n",
        "cnf_matrix = confusion_matrix(test_Y, predicted_classes)\n",
        "np.set_printoptions(precision=2)\n",
        "\n",
        "# Plot non-normalized confusion matrix\n",
        "plt.figure()\n",
        "plot_confusion_matrix(cnf_matrix, classes=class_names,\n",
        "                      title='Confusion matrix, without normalization')\n",
        "\n",
        "# Plot normalized confusion matrix\n",
        "plt.figure()\n",
        "plot_confusion_matrix(cnf_matrix, classes=class_names, normalize=True,\n",
        "                      title='Normalized confusion matrix')\n",
        "\n",
        "plt.show()"
      ],
      "execution_count": null,
      "outputs": [
        {
          "output_type": "stream",
          "text": [
            "Automatically created module for IPython interactive environment\n",
            "Confusion matrix, without normalization\n",
            "[[4673    1   37    9    0    2]\n",
            " [  77  388    5    1    0    3]\n",
            " [ 365    2 3191    7    0    2]\n",
            " [ 254    0   19 3171    7    1]\n",
            " [  60    0    8    2  525    3]\n",
            " [  92    1   14    6    6 1028]]\n",
            "Normalized confusion matrix\n",
            "[[9.90e-01 2.12e-04 7.84e-03 1.91e-03 0.00e+00 4.24e-04]\n",
            " [1.62e-01 8.19e-01 1.05e-02 2.11e-03 0.00e+00 6.33e-03]\n",
            " [1.02e-01 5.61e-04 8.95e-01 1.96e-03 0.00e+00 5.61e-04]\n",
            " [7.36e-02 0.00e+00 5.50e-03 9.19e-01 2.03e-03 2.90e-04]\n",
            " [1.00e-01 0.00e+00 1.34e-02 3.34e-03 8.78e-01 5.02e-03]\n",
            " [8.02e-02 8.72e-04 1.22e-02 5.23e-03 5.23e-03 8.96e-01]]\n"
          ],
          "name": "stdout"
        },
        {
          "output_type": "display_data",
          "data": {
            "image/png": "[encoded data removed]",
            "text/plain": [
              "<Figure size 432x288 with 2 Axes>"
            ]
          },
          "metadata": {
            "tags": [],
            "needs_background": "light"
          }
        },
        {
          "output_type": "display_data",
          "data": {
            "image/png": "[encoded data removed]",
            "text/plain": [
              "<Figure size 432x288 with 2 Axes>"
            ]
          },
          "metadata": {
            "tags": [],
            "needs_background": "light"
          }
        }
      ]
    },
    {
      "cell_type": "code",
      "metadata": {
        "id": "RRoOAQ9QHwea"
      },
      "source": [
        ""
      ],
      "execution_count": null,
      "outputs": []
    }
  ]
}