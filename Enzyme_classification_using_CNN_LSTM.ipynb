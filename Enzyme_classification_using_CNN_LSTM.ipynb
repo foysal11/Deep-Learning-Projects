{
  "nbformat": 4,
  "nbformat_minor": 0,
  "metadata": {
    "colab": {
      "name": "Enzyme classification using CNN-LSTM.ipynb",
      "provenance": [],
      "collapsed_sections": []
    },
    "kernelspec": {
      "name": "python3",
      "display_name": "Python 3"
    }
  },
  "cells": [
    {
      "cell_type": "code",
      "metadata": {
        "id": "4PmdABsYlWtg",
        "outputId": "a4ba2a03-6977-4c63-8984-dd8e906cf74f",
        "colab": {
          "base_uri": "https://localhost:8080/"
        }
      },
      "source": [
        "from google.colab import drive\n",
        "drive.mount('/content/gdrive')"
      ],
      "execution_count": 1,
      "outputs": [
        {
          "output_type": "stream",
          "text": [
            "Mounted at /content/gdrive\n"
          ],
          "name": "stdout"
        }
      ]
    },
    {
      "cell_type": "code",
      "metadata": {
        "id": "E2mbX3GWlfB5"
      },
      "source": [
        "import numpy as np # linear algebra\n",
        "import pandas as pd # data processing, CSV file I/O (e.g. pd.read_csv)\n",
        "import os\n",
        "import pandas as pd\n",
        "import numpy as np\n",
        "from matplotlib import pyplot as plt\n",
        "import seaborn as sns\n",
        "from sklearn.feature_extraction.text import CountVectorizer\n",
        "from sklearn.model_selection import train_test_split\n",
        "from sklearn.metrics import accuracy_score, confusion_matrix, classification_report"
      ],
      "execution_count": 2,
      "outputs": []
    },
    {
      "cell_type": "code",
      "metadata": {
        "id": "_cENqavllg55"
      },
      "source": [
        "# Import Datasets\n",
        "df_seq = pd.read_csv('/content/gdrive/My Drive/Bioinformatics/pdb_data_seq.csv')\n",
        "df_char = pd.read_csv('/content/gdrive/My Drive/Bioinformatics/pdb_data_no_dups.csv')"
      ],
      "execution_count": 3,
      "outputs": []
    },
    {
      "cell_type": "code",
      "metadata": {
        "id": "NKEStTVUlvVA",
        "outputId": "f34da271-4312-4b7d-cc33-8cfdbfe85029",
        "colab": {
          "base_uri": "https://localhost:8080/",
          "height": 204
        }
      },
      "source": [
        "# 2). ----- Filter and Process Dataset ------\n",
        "\n",
        "# Filter for only proteins\n",
        "protein_char = df_char[df_char.macromoleculeType == 'Protein']\n",
        "protein_seq = df_seq[df_seq.macromoleculeType == 'Protein']\n",
        "\n",
        "# Select only necessary variables to join\n",
        "protein_char = protein_char[['structureId','classification']]\n",
        "protein_seq = protein_seq[['structureId','sequence']]\n",
        "protein_seq.head()"
      ],
      "execution_count": 4,
      "outputs": [
        {
          "output_type": "execute_result",
          "data": {
            "text/html": [
              "<div>\n",
              "<style scoped>\n",
              "    .dataframe tbody tr th:only-of-type {\n",
              "        vertical-align: middle;\n",
              "    }\n",
              "\n",
              "    .dataframe tbody tr th {\n",
              "        vertical-align: top;\n",
              "    }\n",
              "\n",
              "    .dataframe thead th {\n",
              "        text-align: right;\n",
              "    }\n",
              "</style>\n",
              "<table border=\"1\" class=\"dataframe\">\n",
              "  <thead>\n",
              "    <tr style=\"text-align: right;\">\n",
              "      <th></th>\n",
              "      <th>structureId</th>\n",
              "      <th>sequence</th>\n",
              "    </tr>\n",
              "  </thead>\n",
              "  <tbody>\n",
              "    <tr>\n",
              "      <th>4</th>\n",
              "      <td>101M</td>\n",
              "      <td>MVLSEGEWQLVLHVWAKVEADVAGHGQDILIRLFKSHPETLEKFDR...</td>\n",
              "    </tr>\n",
              "    <tr>\n",
              "      <th>7</th>\n",
              "      <td>102L</td>\n",
              "      <td>MNIFEMLRIDEGLRLKIYKDTEGYYTIGIGHLLTKSPSLNAAAKSE...</td>\n",
              "    </tr>\n",
              "    <tr>\n",
              "      <th>8</th>\n",
              "      <td>102M</td>\n",
              "      <td>MVLSEGEWQLVLHVWAKVEADVAGHGQDILIRLFKSHPETLEKFDR...</td>\n",
              "    </tr>\n",
              "    <tr>\n",
              "      <th>11</th>\n",
              "      <td>103L</td>\n",
              "      <td>MNIFEMLRIDEGLRLKIYKDTEGYYTIGIGHLLTKSPSLNSLDAAK...</td>\n",
              "    </tr>\n",
              "    <tr>\n",
              "      <th>12</th>\n",
              "      <td>103M</td>\n",
              "      <td>MVLSEGEWQLVLHVWAKVEADVAGHGQDILIRLFKSHPETLEKFDR...</td>\n",
              "    </tr>\n",
              "  </tbody>\n",
              "</table>\n",
              "</div>"
            ],
            "text/plain": [
              "   structureId                                           sequence\n",
              "4         101M  MVLSEGEWQLVLHVWAKVEADVAGHGQDILIRLFKSHPETLEKFDR...\n",
              "7         102L  MNIFEMLRIDEGLRLKIYKDTEGYYTIGIGHLLTKSPSLNAAAKSE...\n",
              "8         102M  MVLSEGEWQLVLHVWAKVEADVAGHGQDILIRLFKSHPETLEKFDR...\n",
              "11        103L  MNIFEMLRIDEGLRLKIYKDTEGYYTIGIGHLLTKSPSLNSLDAAK...\n",
              "12        103M  MVLSEGEWQLVLHVWAKVEADVAGHGQDILIRLFKSHPETLEKFDR..."
            ]
          },
          "metadata": {
            "tags": []
          },
          "execution_count": 4
        }
      ]
    },
    {
      "cell_type": "code",
      "metadata": {
        "id": "vYCQB7eOly1s",
        "outputId": "cdfb56a4-fafc-4442-cec4-034d87e07c8f",
        "colab": {
          "base_uri": "https://localhost:8080/",
          "height": 204
        }
      },
      "source": [
        "protein_char.head()"
      ],
      "execution_count": 5,
      "outputs": [
        {
          "output_type": "execute_result",
          "data": {
            "text/html": [
              "<div>\n",
              "<style scoped>\n",
              "    .dataframe tbody tr th:only-of-type {\n",
              "        vertical-align: middle;\n",
              "    }\n",
              "\n",
              "    .dataframe tbody tr th {\n",
              "        vertical-align: top;\n",
              "    }\n",
              "\n",
              "    .dataframe thead th {\n",
              "        text-align: right;\n",
              "    }\n",
              "</style>\n",
              "<table border=\"1\" class=\"dataframe\">\n",
              "  <thead>\n",
              "    <tr style=\"text-align: right;\">\n",
              "      <th></th>\n",
              "      <th>structureId</th>\n",
              "      <th>classification</th>\n",
              "    </tr>\n",
              "  </thead>\n",
              "  <tbody>\n",
              "    <tr>\n",
              "      <th>2</th>\n",
              "      <td>101M</td>\n",
              "      <td>OXYGEN TRANSPORT</td>\n",
              "    </tr>\n",
              "    <tr>\n",
              "      <th>4</th>\n",
              "      <td>102L</td>\n",
              "      <td>HYDROLASE(O-GLYCOSYL)</td>\n",
              "    </tr>\n",
              "    <tr>\n",
              "      <th>5</th>\n",
              "      <td>102M</td>\n",
              "      <td>OXYGEN TRANSPORT</td>\n",
              "    </tr>\n",
              "    <tr>\n",
              "      <th>7</th>\n",
              "      <td>103L</td>\n",
              "      <td>HYDROLASE(O-GLYCOSYL)</td>\n",
              "    </tr>\n",
              "    <tr>\n",
              "      <th>8</th>\n",
              "      <td>103M</td>\n",
              "      <td>OXYGEN TRANSPORT</td>\n",
              "    </tr>\n",
              "  </tbody>\n",
              "</table>\n",
              "</div>"
            ],
            "text/plain": [
              "  structureId         classification\n",
              "2        101M       OXYGEN TRANSPORT\n",
              "4        102L  HYDROLASE(O-GLYCOSYL)\n",
              "5        102M       OXYGEN TRANSPORT\n",
              "7        103L  HYDROLASE(O-GLYCOSYL)\n",
              "8        103M       OXYGEN TRANSPORT"
            ]
          },
          "metadata": {
            "tags": []
          },
          "execution_count": 5
        }
      ]
    },
    {
      "cell_type": "code",
      "metadata": {
        "id": "Pshfogo-lzkZ",
        "outputId": "eb4f5ace-8ef2-4e3a-8c14-74e4a918e019",
        "colab": {
          "base_uri": "https://localhost:8080/",
          "height": 235
        }
      },
      "source": [
        "model_f = protein_char.set_index('structureId').join(protein_seq.set_index('structureId'))\n",
        "model_f.head()"
      ],
      "execution_count": 6,
      "outputs": [
        {
          "output_type": "execute_result",
          "data": {
            "text/html": [
              "<div>\n",
              "<style scoped>\n",
              "    .dataframe tbody tr th:only-of-type {\n",
              "        vertical-align: middle;\n",
              "    }\n",
              "\n",
              "    .dataframe tbody tr th {\n",
              "        vertical-align: top;\n",
              "    }\n",
              "\n",
              "    .dataframe thead th {\n",
              "        text-align: right;\n",
              "    }\n",
              "</style>\n",
              "<table border=\"1\" class=\"dataframe\">\n",
              "  <thead>\n",
              "    <tr style=\"text-align: right;\">\n",
              "      <th></th>\n",
              "      <th>classification</th>\n",
              "      <th>sequence</th>\n",
              "    </tr>\n",
              "    <tr>\n",
              "      <th>structureId</th>\n",
              "      <th></th>\n",
              "      <th></th>\n",
              "    </tr>\n",
              "  </thead>\n",
              "  <tbody>\n",
              "    <tr>\n",
              "      <th>101M</th>\n",
              "      <td>OXYGEN TRANSPORT</td>\n",
              "      <td>MVLSEGEWQLVLHVWAKVEADVAGHGQDILIRLFKSHPETLEKFDR...</td>\n",
              "    </tr>\n",
              "    <tr>\n",
              "      <th>102L</th>\n",
              "      <td>HYDROLASE(O-GLYCOSYL)</td>\n",
              "      <td>MNIFEMLRIDEGLRLKIYKDTEGYYTIGIGHLLTKSPSLNAAAKSE...</td>\n",
              "    </tr>\n",
              "    <tr>\n",
              "      <th>102M</th>\n",
              "      <td>OXYGEN TRANSPORT</td>\n",
              "      <td>MVLSEGEWQLVLHVWAKVEADVAGHGQDILIRLFKSHPETLEKFDR...</td>\n",
              "    </tr>\n",
              "    <tr>\n",
              "      <th>103L</th>\n",
              "      <td>HYDROLASE(O-GLYCOSYL)</td>\n",
              "      <td>MNIFEMLRIDEGLRLKIYKDTEGYYTIGIGHLLTKSPSLNSLDAAK...</td>\n",
              "    </tr>\n",
              "    <tr>\n",
              "      <th>103M</th>\n",
              "      <td>OXYGEN TRANSPORT</td>\n",
              "      <td>MVLSEGEWQLVLHVWAKVEADVAGHGQDILIRLFKSHPETLEKFDR...</td>\n",
              "    </tr>\n",
              "  </tbody>\n",
              "</table>\n",
              "</div>"
            ],
            "text/plain": [
              "                    classification                                           sequence\n",
              "structureId                                                                          \n",
              "101M              OXYGEN TRANSPORT  MVLSEGEWQLVLHVWAKVEADVAGHGQDILIRLFKSHPETLEKFDR...\n",
              "102L         HYDROLASE(O-GLYCOSYL)  MNIFEMLRIDEGLRLKIYKDTEGYYTIGIGHLLTKSPSLNAAAKSE...\n",
              "102M              OXYGEN TRANSPORT  MVLSEGEWQLVLHVWAKVEADVAGHGQDILIRLFKSHPETLEKFDR...\n",
              "103L         HYDROLASE(O-GLYCOSYL)  MNIFEMLRIDEGLRLKIYKDTEGYYTIGIGHLLTKSPSLNSLDAAK...\n",
              "103M              OXYGEN TRANSPORT  MVLSEGEWQLVLHVWAKVEADVAGHGQDILIRLFKSHPETLEKFDR..."
            ]
          },
          "metadata": {
            "tags": []
          },
          "execution_count": 6
        }
      ]
    },
    {
      "cell_type": "code",
      "metadata": {
        "id": "nRM9FFwdl2Ko",
        "outputId": "484c3c9b-c16f-4f3d-91a8-d069c200e535",
        "colab": {
          "base_uri": "https://localhost:8080/"
        }
      },
      "source": [
        "# Check NA counts\n",
        "model_f.isnull().sum()"
      ],
      "execution_count": 7,
      "outputs": [
        {
          "output_type": "execute_result",
          "data": {
            "text/plain": [
              "classification      1\n",
              "sequence          469\n",
              "dtype: int64"
            ]
          },
          "metadata": {
            "tags": []
          },
          "execution_count": 7
        }
      ]
    },
    {
      "cell_type": "code",
      "metadata": {
        "id": "yNk7myMFl6bl",
        "outputId": "3c2e4dbc-dfb2-4d7a-cb5c-17080cfe3101",
        "colab": {
          "base_uri": "https://localhost:8080/"
        }
      },
      "source": [
        "# Drop rows with missing values\n",
        "model_f = model_f.dropna()\n",
        "print('%d is the number of proteins that have a classification and sequence' %model_f.shape[0])"
      ],
      "execution_count": 8,
      "outputs": [
        {
          "output_type": "stream",
          "text": [
            "345197 is the number of proteins that have a classification and sequence\n"
          ],
          "name": "stdout"
        }
      ]
    },
    {
      "cell_type": "code",
      "metadata": {
        "id": "Ky8Z0C1Zl88F",
        "outputId": "397e6cc8-c871-497b-ada4-c83f9a4e6fac",
        "colab": {
          "base_uri": "https://localhost:8080/",
          "height": 553
        }
      },
      "source": [
        "# Look at classification type counts\n",
        "counts = model_f.classification.value_counts()\n",
        "print(counts)\n",
        "\n",
        "#plot counts\n",
        "plt.figure()\n",
        "sns.distplot(counts, hist = False, color = 'purple')\n",
        "plt.title('Count Distribution for Family Types')\n",
        "plt.ylabel('% of records')\n",
        "plt.show()"
      ],
      "execution_count": 9,
      "outputs": [
        {
          "output_type": "stream",
          "text": [
            "HYDROLASE                           46193\n",
            "TRANSFERASE                         36264\n",
            "OXIDOREDUCTASE                      34223\n",
            "IMMUNE SYSTEM                       15586\n",
            "LYASE                               11644\n",
            "                                    ...  \n",
            "Fluorescent Protein, replication        1\n",
            "ISOMERASE/ANTIBIOTIC                    1\n",
            "ADHESION GLYCOPROTEIN                   1\n",
            "METHYL-CPG-BINDING PROTEIN              1\n",
            "CELL ADHESION, RIBOSOMAL PROTEIN        1\n",
            "Name: classification, Length: 4458, dtype: int64\n"
          ],
          "name": "stdout"
        },
        {
          "output_type": "stream",
          "text": [
            "/usr/local/lib/python3.6/dist-packages/seaborn/distributions.py:2551: FutureWarning: `distplot` is a deprecated function and will be removed in a future version. Please adapt your code to use either `displot` (a figure-level function with similar flexibility) or `kdeplot` (an axes-level function for kernel density plots).\n",
            "  warnings.warn(msg, FutureWarning)\n"
          ],
          "name": "stderr"
        },
        {
          "output_type": "display_data",
          "data": {
            "image/png": "[encoded data removed]",
            "text/plain": [
              "<Figure size 432x288 with 1 Axes>"
            ]
          },
          "metadata": {
            "tags": [],
            "needs_background": "light"
          }
        }
      ]
    },
    {
      "cell_type": "code",
      "metadata": {
        "id": "tSYyQnNlPz0f",
        "outputId": "cf0a8827-6e51-40c4-8c09-1d48d40e9751",
        "colab": {
          "base_uri": "https://localhost:8080/"
        }
      },
      "source": [
        "print(counts['HYDROLASE'])\n",
        "print(counts['LIGASE'])\n",
        "print(counts['TRANSFERASE'])\n",
        "print(counts['OXIDOREDUCTASE'])\n",
        "print(counts['ISOMERASE'])\n",
        "print(counts['LYASE'])"
      ],
      "execution_count": 10,
      "outputs": [
        {
          "output_type": "stream",
          "text": [
            "46193\n",
            "4926\n",
            "36264\n",
            "34223\n",
            "6345\n",
            "11644\n"
          ],
          "name": "stdout"
        }
      ]
    },
    {
      "cell_type": "code",
      "metadata": {
        "id": "8IXiqK1s6DOG"
      },
      "source": [
        "max_length=model_f[\"sequence\"].str.len().max()"
      ],
      "execution_count": 11,
      "outputs": []
    },
    {
      "cell_type": "code",
      "metadata": {
        "id": "3MnX7IRql_u_",
        "outputId": "e4b7845e-9135-4fc2-a60f-257451a761b7",
        "colab": {
          "base_uri": "https://localhost:8080/"
        }
      },
      "source": [
        "# Get classification types where counts are over 1000\n",
        "#types = np.asarray(counts[(counts > 1000)].index)\n",
        "types=['HYDROLASE'\n",
        ",'LIGASE'\n",
        ",'TRANSFERASE'\n",
        ",'OXIDOREDUCTASE'\n",
        ",'ISOMERASE'\n",
        ",'LYASE']\n",
        "\n",
        "# Filter dataset's records for classification types > 1000\n",
        "data = model_f[model_f.classification.isin(types)]\n",
        "\n",
        "#data_m = data[(data['classification'] =='HYDROLASE' )  (data['classification'] =='LIGASE' ) or (data['classification'] =='TRANSFERASE' ) or (data['classification'] =='OXIDOREDUCTASE' ) or (data['classification'] =='ISOMERASE' ) or (data['classification'] =='LYASE' )]\n",
        "\n",
        "print(types)\n",
        "print('%d is the number of records in the final filtered dataset' %data.shape[0])"
      ],
      "execution_count": 12,
      "outputs": [
        {
          "output_type": "stream",
          "text": [
            "['HYDROLASE', 'LIGASE', 'TRANSFERASE', 'OXIDOREDUCTASE', 'ISOMERASE', 'LYASE']\n",
            "139595 is the number of records in the final filtered dataset\n"
          ],
          "name": "stdout"
        }
      ]
    },
    {
      "cell_type": "code",
      "metadata": {
        "id": "ocFhz6J0mCnU",
        "outputId": "3677c720-3586-4c9d-fa6b-2e5cd7118c63",
        "colab": {
          "base_uri": "https://localhost:8080/"
        }
      },
      "source": [
        "train=data\n",
        "a=train.classification.unique()\n",
        "l=len(train.classification.unique())\n",
        "print(a)"
      ],
      "execution_count": 13,
      "outputs": [
        {
          "output_type": "stream",
          "text": [
            "['HYDROLASE' 'LIGASE' 'TRANSFERASE' 'OXIDOREDUCTASE' 'ISOMERASE' 'LYASE']\n"
          ],
          "name": "stdout"
        }
      ]
    },
    {
      "cell_type": "code",
      "metadata": {
        "id": "10ZcX8vTmaOL",
        "outputId": "8131f5b9-eefe-417a-9101-90ed0d692bef",
        "colab": {
          "base_uri": "https://localhost:8080/"
        }
      },
      "source": [
        "for i in range (l):\n",
        "    train.classification = train.classification.replace(a[i], i)"
      ],
      "execution_count": 14,
      "outputs": [
        {
          "output_type": "stream",
          "text": [
            "/usr/local/lib/python3.6/dist-packages/pandas/core/generic.py:5168: SettingWithCopyWarning: \n",
            "A value is trying to be set on a copy of a slice from a DataFrame.\n",
            "Try using .loc[row_indexer,col_indexer] = value instead\n",
            "\n",
            "See the caveats in the documentation: https://pandas.pydata.org/pandas-docs/stable/user_guide/indexing.html#returning-a-view-versus-a-copy\n",
            "  self[name] = value\n"
          ],
          "name": "stderr"
        }
      ]
    },
    {
      "cell_type": "code",
      "metadata": {
        "id": "ocjki6hTmdGp",
        "outputId": "0883058e-8f95-493a-c4a9-5231c52801d0",
        "colab": {
          "base_uri": "https://localhost:8080/"
        }
      },
      "source": [
        "train.classification.head()"
      ],
      "execution_count": 15,
      "outputs": [
        {
          "output_type": "execute_result",
          "data": {
            "text/plain": [
              "structureId\n",
              "117E    0\n",
              "117E    0\n",
              "11AS    1\n",
              "11AS    1\n",
              "11BA    0\n",
              "Name: classification, dtype: int64"
            ]
          },
          "metadata": {
            "tags": []
          },
          "execution_count": 15
        }
      ]
    },
    {
      "cell_type": "code",
      "metadata": {
        "id": "x4wsc-homfT0",
        "outputId": "3dbe5b21-200d-4202-c8d5-94bfb94a15ca",
        "colab": {
          "base_uri": "https://localhost:8080/"
        }
      },
      "source": [
        "train.classification.value_counts()"
      ],
      "execution_count": 16,
      "outputs": [
        {
          "output_type": "execute_result",
          "data": {
            "text/plain": [
              "0    46193\n",
              "2    36264\n",
              "3    34223\n",
              "5    11644\n",
              "4     6345\n",
              "1     4926\n",
              "Name: classification, dtype: int64"
            ]
          },
          "metadata": {
            "tags": []
          },
          "execution_count": 16
        }
      ]
    },
    {
      "cell_type": "code",
      "metadata": {
        "id": "eII-X2lQmoEf",
        "outputId": "a8a5cca9-e7db-4294-b452-ce4ce8a7ee2b",
        "colab": {
          "base_uri": "https://localhost:8080/"
        }
      },
      "source": [
        "df = train\n",
        "df.classification = df.classification.astype(int)"
      ],
      "execution_count": 17,
      "outputs": [
        {
          "output_type": "stream",
          "text": [
            "/usr/local/lib/python3.6/dist-packages/pandas/core/generic.py:5168: SettingWithCopyWarning: \n",
            "A value is trying to be set on a copy of a slice from a DataFrame.\n",
            "Try using .loc[row_indexer,col_indexer] = value instead\n",
            "\n",
            "See the caveats in the documentation: https://pandas.pydata.org/pandas-docs/stable/user_guide/indexing.html#returning-a-view-versus-a-copy\n",
            "  self[name] = value\n"
          ],
          "name": "stderr"
        }
      ]
    },
    {
      "cell_type": "code",
      "metadata": {
        "id": "p9zRMfaQmv7W"
      },
      "source": [
        "from sklearn.model_selection import train_test_split\n",
        "from sklearn.preprocessing import LabelBinarizer\n",
        "from keras.preprocessing.text import Tokenizer\n",
        "from keras.preprocessing.sequence import pad_sequences\n",
        "from sklearn.feature_extraction.text import TfidfVectorizer\n",
        "from keras.layers import SpatialDropout1D\n",
        "from keras.utils import to_categorical\n",
        "from sklearn.metrics import classification_report\n",
        "from sklearn.metrics import roc_auc_score\n",
        "from sklearn.metrics import roc_curve\n",
        "from sklearn.metrics import precision_recall_curve\n",
        "from sklearn.model_selection import GridSearchCV\n",
        "from keras.models import Sequential\n",
        "from keras.layers import Dense\n",
        "from keras.layers import LSTM\n",
        "from keras.layers import Dropout\n",
        "from keras.layers import Bidirectional\n",
        "from keras.layers import TimeDistributed\n",
        "from keras.layers import GlobalMaxPool1D\n",
        "from keras.utils import plot_model\n",
        "from keras.layers import Conv1D\n",
        "from keras.layers import MaxPooling1D\n",
        "from keras.layers import Flatten\n",
        "from keras.layers import Input\n",
        "from keras.layers import Reshape\n",
        "from keras.layers import Conv2D\n",
        "from keras.layers import MaxPool2D\n",
        "from keras.layers import Concatenate\n",
        "from keras.models import Model\n",
        "from keras.callbacks import ModelCheckpoint\n",
        "from keras.optimizers import Adam\n",
        "from keras.layers.embeddings import Embedding\n",
        "from keras.preprocessing import sequence\n",
        "from keras.callbacks import EarlyStopping\n",
        "from sklearn.feature_selection import RFE\n",
        "import re\n",
        "import tensorflow as tf"
      ],
      "execution_count": 18,
      "outputs": []
    },
    {
      "cell_type": "code",
      "metadata": {
        "id": "uHI7PHBEm3yo",
        "outputId": "c7ddd4bb-9374-4f33-b282-f7cecade6356",
        "colab": {
          "base_uri": "https://localhost:8080/"
        }
      },
      "source": [
        "# The maximum number of words to be used. (most frequent)\n",
        "MAX_NB_WORDS = 50000\n",
        "# Max number of words in each complaint.\n",
        "MAX_SEQUENCE_LENGTH = 250\n",
        "# This is fixed.\n",
        "EMBEDDING_DIM = 100\n",
        "tokenizer = Tokenizer(num_words=MAX_NB_WORDS, filters='!\"#$%&()*+,-./:;<=>?@[\\]^_`{|}~।', lower=False)\n",
        "tokenizer.fit_on_texts(df.sequence.values)\n",
        "word_index = tokenizer.word_index\n",
        "print('Found %s unique tokens.' % len(word_index))"
      ],
      "execution_count": 19,
      "outputs": [
        {
          "output_type": "stream",
          "text": [
            "Found 34735 unique tokens.\n"
          ],
          "name": "stdout"
        }
      ]
    },
    {
      "cell_type": "code",
      "metadata": {
        "id": "_zDnb4Bum8LL",
        "outputId": "102ad13c-e331-4d19-ebc6-79b107dd8261",
        "colab": {
          "base_uri": "https://localhost:8080/"
        }
      },
      "source": [
        "X = tokenizer.texts_to_sequences(df.sequence.values)\n",
        "X = pad_sequences(X, maxlen=MAX_SEQUENCE_LENGTH)\n",
        "print('Shape of data tensor:', X.shape)"
      ],
      "execution_count": 20,
      "outputs": [
        {
          "output_type": "stream",
          "text": [
            "Shape of data tensor: (139595, 250)\n"
          ],
          "name": "stdout"
        }
      ]
    },
    {
      "cell_type": "code",
      "metadata": {
        "id": "GBIO9NbInAyM",
        "outputId": "8c4030d2-3946-455c-c7e1-6ac0ff9e663f",
        "colab": {
          "base_uri": "https://localhost:8080/"
        }
      },
      "source": [
        "Y = pd.get_dummies(df.classification).values\n",
        "print('Shape of label tensor:', Y.shape)"
      ],
      "execution_count": 21,
      "outputs": [
        {
          "output_type": "stream",
          "text": [
            "Shape of label tensor: (139595, 6)\n"
          ],
          "name": "stdout"
        }
      ]
    },
    {
      "cell_type": "code",
      "metadata": {
        "id": "PtVYqSwJnBZ-"
      },
      "source": [
        "train_features, test_features, train_labels, test_labels = train_test_split(X, Y, test_size=.10)"
      ],
      "execution_count": 22,
      "outputs": []
    },
    {
      "cell_type": "code",
      "metadata": {
        "id": "cxGWMPPnqLdD"
      },
      "source": [
        ""
      ],
      "execution_count": 22,
      "outputs": []
    },
    {
      "cell_type": "code",
      "metadata": {
        "id": "rroq9jtDsgDA",
        "outputId": "2dad992e-011a-4f3f-e904-1746d5e76aaf",
        "colab": {
          "base_uri": "https://localhost:8080/",
          "height": 1000
        }
      },
      "source": [
        "model = Sequential()\n",
        "model.add(Embedding(MAX_NB_WORDS, EMBEDDING_DIM, input_length=MAX_SEQUENCE_LENGTH))\n",
        "model.add(Conv1D(32, 1, activation= 'relu'))\n",
        "model.add(MaxPooling1D(2))\n",
        "model.add(LSTM(64, activation='relu',return_sequences=True))\n",
        "model.add(Flatten())\n",
        "model.add(Dense(128, activation='relu'))\n",
        "\n",
        "model.add(Dense(l, activation='softmax'))\n",
        "\n",
        "\n",
        "model.compile(loss='categorical_crossentropy', optimizer='adam', metrics=['accuracy'])\n",
        "print(model.summary())\n",
        "\n",
        "plot_model(model,'model.png',show_shapes=True)\n"
      ],
      "execution_count": 27,
      "outputs": [
        {
          "output_type": "stream",
          "text": [
            "Model: \"sequential_1\"\n",
            "_________________________________________________________________\n",
            "Layer (type)                 Output Shape              Param #   \n",
            "=================================================================\n",
            "embedding_1 (Embedding)      (None, 250, 100)          5000000   \n",
            "_________________________________________________________________\n",
            "conv1d_1 (Conv1D)            (None, 250, 32)           3232      \n",
            "_________________________________________________________________\n",
            "max_pooling1d_1 (MaxPooling1 (None, 125, 32)           0         \n",
            "_________________________________________________________________\n",
            "lstm_1 (LSTM)                (None, 125, 64)           24832     \n",
            "_________________________________________________________________\n",
            "flatten (Flatten)            (None, 8000)              0         \n",
            "_________________________________________________________________\n",
            "dense_2 (Dense)              (None, 128)               1024128   \n",
            "_________________________________________________________________\n",
            "dense_3 (Dense)              (None, 6)                 774       \n",
            "=================================================================\n",
            "Total params: 6,052,966\n",
            "Trainable params: 6,052,966\n",
            "Non-trainable params: 0\n",
            "_________________________________________________________________\n",
            "None\n"
          ],
          "name": "stdout"
        },
        {
          "output_type": "execute_result",
          "data": {
            "image/png": "[encoded data removed]",
            "text/plain": [
              "<IPython.core.display.Image object>"
            ]
          },
          "metadata": {
            "tags": []
          },
          "execution_count": 27
        }
      ]
    },
    {
      "cell_type": "code",
      "metadata": {
        "id": "yjvQfs2HqKJP"
      },
      "source": [
        ""
      ],
      "execution_count": 23,
      "outputs": []
    },
    {
      "cell_type": "code",
      "metadata": {
        "id": "yAKHk4E8nFUv"
      },
      "source": [
        "epochs = 5\n",
        "batch_size = 64"
      ],
      "execution_count": 29,
      "outputs": []
    },
    {
      "cell_type": "code",
      "metadata": {
        "id": "A56aR5RdnIKu",
        "outputId": "800e3bb0-1c80-4e72-ec6d-9f045348383d",
        "colab": {
          "base_uri": "https://localhost:8080/"
        }
      },
      "source": [
        "history = model.fit(train_features, train_labels, epochs=epochs, batch_size=batch_size,validation_split=0.1,callbacks=[EarlyStopping(monitor='val_loss', patience=3, min_delta=0.0001)])"
      ],
      "execution_count": 30,
      "outputs": [
        {
          "output_type": "stream",
          "text": [
            "Epoch 1/5\n",
            "1767/1767 [==============================] - 332s 188ms/step - loss: 0.7224 - accuracy: 0.7080 - val_loss: 0.2867 - val_accuracy: 0.8889\n",
            "Epoch 2/5\n",
            "1767/1767 [==============================] - 335s 190ms/step - loss: 0.0954 - accuracy: 0.9660 - val_loss: 0.2692 - val_accuracy: 0.9144\n",
            "Epoch 3/5\n",
            "1767/1767 [==============================] - 339s 192ms/step - loss: 0.0399 - accuracy: 0.9864 - val_loss: 0.2177 - val_accuracy: 0.9186\n",
            "Epoch 4/5\n",
            "1767/1767 [==============================] - 334s 189ms/step - loss: 0.0241 - accuracy: 0.9927 - val_loss: 0.2011 - val_accuracy: 0.9263\n",
            "Epoch 5/5\n",
            "1767/1767 [==============================] - 333s 189ms/step - loss: 0.0168 - accuracy: 0.9947 - val_loss: 0.2303 - val_accuracy: 0.9192\n"
          ],
          "name": "stdout"
        }
      ]
    },
    {
      "cell_type": "code",
      "metadata": {
        "id": "YxLsGeymnOPk",
        "outputId": "cf43352f-6088-46ef-eed3-7ea7ff7f0d4f",
        "colab": {
          "base_uri": "https://localhost:8080/"
        }
      },
      "source": [
        "accr = model.evaluate(test_features,test_labels)\n",
        "print('Test set\\n  Loss: {:0.3f}\\n  Accuracy: {:0.3f}'.format(accr[0],accr[1]))"
      ],
      "execution_count": 31,
      "outputs": [
        {
          "output_type": "stream",
          "text": [
            "437/437 [==============================] - 10s 23ms/step - loss: 0.2421 - accuracy: 0.9150\n",
            "Test set\n",
            "  Loss: 0.242\n",
            "  Accuracy: 0.915\n"
          ],
          "name": "stdout"
        }
      ]
    },
    {
      "cell_type": "code",
      "metadata": {
        "id": "gAPd3gke5Alm",
        "outputId": "bf72ef49-0e76-4435-e1c0-3f6b02ee9621",
        "colab": {
          "base_uri": "https://localhost:8080/",
          "height": 545
        }
      },
      "source": [
        " from matplotlib import pyplot as plt\n",
        "plt.title('Loss')\n",
        "plt.plot(history.history['loss'],'r', label='train')\n",
        "plt.plot(history.history['val_loss'],'b', label='test')\n",
        "plt.legend()\n",
        "plt.show()\n",
        "plt.title('Accuracy')\n",
        "plt.plot(history.history['accuracy'],'r', label='train')\n",
        "plt.plot(history.history['val_accuracy'],'b', label='test')\n",
        "plt.legend()\n",
        "plt.show()"
      ],
      "execution_count": 32,
      "outputs": [
        {
          "output_type": "display_data",
          "data": {
            "image/png": "[encoded data removed]",
            "text/plain": [
              "<Figure size 432x288 with 1 Axes>"
            ]
          },
          "metadata": {
            "tags": [],
            "needs_background": "light"
          }
        },
        {
          "output_type": "display_data",
          "data": {
            "image/png": "[encoded data removed]",
            "text/plain": [
              "<Figure size 432x288 with 1 Axes>"
            ]
          },
          "metadata": {
            "tags": [],
            "needs_background": "light"
          }
        }
      ]
    },
    {
      "cell_type": "code",
      "metadata": {
        "id": "RJC6ZKwP5NH9"
      },
      "source": [
        "predicted_classes = model.predict(test_features)\n",
        "predicted_classes = np.argmax(np.round(predicted_classes),axis=1)\n"
      ],
      "execution_count": 33,
      "outputs": []
    },
    {
      "cell_type": "code",
      "metadata": {
        "id": "YF424L9V5Sui",
        "outputId": "b5aed68c-f122-4873-c256-cc54cf3ce6b1",
        "colab": {
          "base_uri": "https://localhost:8080/"
        }
      },
      "source": [
        "predicted_classes.shape, test_labels.shape\n",
        "print(test_labels.shape)"
      ],
      "execution_count": 34,
      "outputs": [
        {
          "output_type": "stream",
          "text": [
            "(13960, 6)\n"
          ],
          "name": "stdout"
        }
      ]
    },
    {
      "cell_type": "code",
      "metadata": {
        "id": "j9ZAWwqv5UOs"
      },
      "source": [
        "test_Y = np.argmax(np.round(test_labels),axis=1)"
      ],
      "execution_count": 35,
      "outputs": []
    },
    {
      "cell_type": "code",
      "metadata": {
        "id": "x9ykmxWl5bWg",
        "outputId": "e4b805e3-21bd-40d3-ac2c-590b30a9c9a9",
        "colab": {
          "base_uri": "https://localhost:8080/"
        }
      },
      "source": [
        "from sklearn.metrics import classification_report\n",
        "target_names = [\"Class {}\".format(i) for i in range(6)]\n",
        "print(classification_report(test_Y, predicted_classes, target_names=target_names))"
      ],
      "execution_count": 36,
      "outputs": [
        {
          "output_type": "stream",
          "text": [
            "              precision    recall  f1-score   support\n",
            "\n",
            "     Class 0       0.88      0.95      0.91      4751\n",
            "     Class 1       1.00      0.84      0.91       495\n",
            "     Class 2       1.00      0.88      0.94      3610\n",
            "     Class 3       0.87      0.94      0.90      3360\n",
            "     Class 4       1.00      0.88      0.94       584\n",
            "     Class 5       0.98      0.89      0.93      1160\n",
            "\n",
            "    accuracy                           0.92     13960\n",
            "   macro avg       0.95      0.90      0.92     13960\n",
            "weighted avg       0.92      0.92      0.92     13960\n",
            "\n"
          ],
          "name": "stdout"
        }
      ]
    },
    {
      "cell_type": "code",
      "metadata": {
        "id": "h2Lcskog7myA"
      },
      "source": [
        "name=[]\n",
        "for i in range(6):\n",
        "  name.append(i)\n"
      ],
      "execution_count": 37,
      "outputs": []
    },
    {
      "cell_type": "code",
      "metadata": {
        "id": "-M7KnWlAgpRQ",
        "outputId": "8e706e76-7ff5-494e-f8d7-92de5ea9dd05",
        "colab": {
          "base_uri": "https://localhost:8080/",
          "height": 500
        }
      },
      "source": [
        "# Plot confusion matrix\n",
        "conf_mat = confusion_matrix(test_Y, predicted_classes, labels = name)\n",
        "\n",
        "#Normalize confusion_matrix\n",
        "conf_mat = conf_mat.astype('float')/ conf_mat.sum(axis=1)[:, np.newaxis]\n",
        "\n",
        "# Plot Heat Map\n",
        "fig , ax = plt.subplots()\n",
        "fig.set_size_inches(13, 8)\n",
        "sns.heatmap(conf_mat)"
      ],
      "execution_count": 38,
      "outputs": [
        {
          "output_type": "execute_result",
          "data": {
            "text/plain": [
              "<matplotlib.axes._subplots.AxesSubplot at 0x7ff31f57d198>"
            ]
          },
          "metadata": {
            "tags": []
          },
          "execution_count": 38
        },
        {
          "output_type": "display_data",
          "data": {
            "image/png": "[encoded data removed]",
            "text/plain": [
              "<Figure size 936x576 with 2 Axes>"
            ]
          },
          "metadata": {
            "tags": [],
            "needs_background": "light"
          }
        }
      ]
    },
    {
      "cell_type": "code",
      "metadata": {
        "id": "-ytHKWwV24Rt",
        "outputId": "2a3c98dd-515b-43df-82cc-3f81ae016c24",
        "colab": {
          "base_uri": "https://localhost:8080/",
          "height": 860
        }
      },
      "source": [
        "print(__doc__)\n",
        "\n",
        "import itertools\n",
        "import numpy as np\n",
        "import matplotlib.pyplot as plt\n",
        "\n",
        "from sklearn import svm, datasets\n",
        "from sklearn.model_selection import train_test_split\n",
        "from sklearn.metrics import confusion_matrix\n",
        "\n",
        "\n",
        "class_names = name\n",
        "\n",
        "def plot_confusion_matrix(cm, classes,\n",
        "                          normalize=False,\n",
        "                          title='Confusion matrix',\n",
        "                          cmap=plt.cm.Blues):\n",
        "    \"\"\"\n",
        "    This function prints and plots the confusion matrix.\n",
        "    Normalization can be applied by setting `normalize=True`.\n",
        "    \"\"\"\n",
        "    if normalize:\n",
        "        cm = cm.astype('float') / cm.sum(axis=1)[:, np.newaxis]\n",
        "        print(\"Normalized confusion matrix\")\n",
        "    else:\n",
        "        print('Confusion matrix, without normalization')\n",
        "\n",
        "    print(cm)\n",
        "\n",
        "    plt.imshow(cm, interpolation='nearest', cmap=cmap)\n",
        "    plt.title(title)\n",
        "    plt.colorbar()\n",
        "    tick_marks = np.arange(len(classes))\n",
        "    plt.xticks(tick_marks, classes, rotation=0)\n",
        "    plt.yticks(tick_marks, classes)\n",
        "\n",
        "    fmt = '.2f' if normalize else 'd'\n",
        "    thresh = cm.max() / 2.\n",
        "    for i, j in itertools.product(range(cm.shape[0]), range(cm.shape[1])):\n",
        "        plt.text(j, i, format(cm[i, j], fmt),\n",
        "                 horizontalalignment=\"center\",\n",
        "                 color=\"white\" if cm[i, j] > thresh else \"black\")\n",
        "\n",
        "    plt.tight_layout()\n",
        "    plt.ylabel('True label')\n",
        "    plt.xlabel('Predicted label')\n",
        "\n",
        "# Compute confusion matrix\n",
        "cnf_matrix = confusion_matrix(test_Y, predicted_classes)\n",
        "np.set_printoptions(precision=2)\n",
        "\n",
        "# Plot non-normalized confusion matrix\n",
        "plt.figure()\n",
        "plot_confusion_matrix(cnf_matrix, classes=class_names,\n",
        "                      title='Confusion matrix, without normalization')\n",
        "\n",
        "# Plot normalized confusion matrix\n",
        "plt.figure()\n",
        "plot_confusion_matrix(cnf_matrix, classes=class_names, normalize=True,\n",
        "                      title='Normalized confusion matrix')\n",
        "\n",
        "plt.show()"
      ],
      "execution_count": 39,
      "outputs": [
        {
          "output_type": "stream",
          "text": [
            "Automatically created module for IPython interactive environment\n",
            "Confusion matrix, without normalization\n",
            "[[4509    0    4  230    0    8]\n",
            " [  45  416    0   32    1    1]\n",
            " [ 274    0 3194  134    0    8]\n",
            " [ 192    0    3 3164    0    1]\n",
            " [  41    0    0   24  516    3]\n",
            " [  70    1    4   49    1 1035]]\n",
            "Normalized confusion matrix\n",
            "[[9.49e-01 0.00e+00 8.42e-04 4.84e-02 0.00e+00 1.68e-03]\n",
            " [9.09e-02 8.40e-01 0.00e+00 6.46e-02 2.02e-03 2.02e-03]\n",
            " [7.59e-02 0.00e+00 8.85e-01 3.71e-02 0.00e+00 2.22e-03]\n",
            " [5.71e-02 0.00e+00 8.93e-04 9.42e-01 0.00e+00 2.98e-04]\n",
            " [7.02e-02 0.00e+00 0.00e+00 4.11e-02 8.84e-01 5.14e-03]\n",
            " [6.03e-02 8.62e-04 3.45e-03 4.22e-02 8.62e-04 8.92e-01]]\n"
          ],
          "name": "stdout"
        },
        {
          "output_type": "display_data",
          "data": {
            "image/png": "[encoded data removed]",
            "text/plain": [
              "<Figure size 432x288 with 2 Axes>"
            ]
          },
          "metadata": {
            "tags": [],
            "needs_background": "light"
          }
        },
        {
          "output_type": "display_data",
          "data": {
            "image/png": "[encoded data removed]",
            "text/plain": [
              "<Figure size 432x288 with 2 Axes>"
            ]
          },
          "metadata": {
            "tags": [],
            "needs_background": "light"
          }
        }
      ]
    },
    {
      "cell_type": "code",
      "metadata": {
        "id": "6RTj1X-w28Xu"
      },
      "source": [
        ""
      ],
      "execution_count": 39,
      "outputs": []
    }
  ]
}