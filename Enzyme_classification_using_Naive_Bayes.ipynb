{
  "nbformat": 4,
  "nbformat_minor": 0,
  "metadata": {
    "colab": {
      "name": "Enzyme classification using Naive Bayes.ipynb",
      "provenance": [],
      "collapsed_sections": []
    },
    "kernelspec": {
      "name": "python3",
      "display_name": "Python 3"
    }
  },
  "cells": [
    {
      "cell_type": "code",
      "metadata": {
        "id": "4PmdABsYlWtg",
        "outputId": "7966c0a4-5efb-4fea-8287-ea2f38372143",
        "colab": {
          "base_uri": "https://localhost:8080/"
        }
      },
      "source": [
        "from google.colab import drive\n",
        "drive.mount('/content/gdrive')"
      ],
      "execution_count": null,
      "outputs": [
        {
          "output_type": "stream",
          "text": [
            "Mounted at /content/gdrive\n"
          ],
          "name": "stdout"
        }
      ]
    },
    {
      "cell_type": "code",
      "metadata": {
        "id": "E2mbX3GWlfB5"
      },
      "source": [
        "import numpy as np # linear algebra\n",
        "import pandas as pd # data processing, CSV file I/O (e.g. pd.read_csv)\n",
        "import os\n",
        "import pandas as pd\n",
        "import numpy as np\n",
        "from matplotlib import pyplot as plt\n",
        "import seaborn as sns\n",
        "from sklearn.feature_extraction.text import CountVectorizer\n",
        "from sklearn.model_selection import train_test_split\n",
        "from sklearn.metrics import accuracy_score, confusion_matrix, classification_report"
      ],
      "execution_count": null,
      "outputs": []
    },
    {
      "cell_type": "code",
      "metadata": {
        "id": "_cENqavllg55"
      },
      "source": [
        "# Import Datasets\n",
        "df_seq = pd.read_csv('/content/gdrive/My Drive/Bioinformatics/pdb_data_seq.csv')\n",
        "df_char = pd.read_csv('/content/gdrive/My Drive/Bioinformatics/pdb_data_no_dups.csv')"
      ],
      "execution_count": null,
      "outputs": []
    },
    {
      "cell_type": "code",
      "metadata": {
        "id": "NKEStTVUlvVA",
        "outputId": "54deea77-33d7-4e17-c69d-332068fd6f9b",
        "colab": {
          "base_uri": "https://localhost:8080/",
          "height": 204
        }
      },
      "source": [
        "# 2). ----- Filter and Process Dataset ------\n",
        "\n",
        "# Filter for only proteins\n",
        "protein_char = df_char[df_char.macromoleculeType == 'Protein']\n",
        "protein_seq = df_seq[df_seq.macromoleculeType == 'Protein']\n",
        "\n",
        "# Select only necessary variables to join\n",
        "protein_char = protein_char[['structureId','classification']]\n",
        "protein_seq = protein_seq[['structureId','sequence']]\n",
        "protein_seq.head()"
      ],
      "execution_count": null,
      "outputs": [
        {
          "output_type": "execute_result",
          "data": {
            "text/html": [
              "<div>\n",
              "<style scoped>\n",
              "    .dataframe tbody tr th:only-of-type {\n",
              "        vertical-align: middle;\n",
              "    }\n",
              "\n",
              "    .dataframe tbody tr th {\n",
              "        vertical-align: top;\n",
              "    }\n",
              "\n",
              "    .dataframe thead th {\n",
              "        text-align: right;\n",
              "    }\n",
              "</style>\n",
              "<table border=\"1\" class=\"dataframe\">\n",
              "  <thead>\n",
              "    <tr style=\"text-align: right;\">\n",
              "      <th></th>\n",
              "      <th>structureId</th>\n",
              "      <th>sequence</th>\n",
              "    </tr>\n",
              "  </thead>\n",
              "  <tbody>\n",
              "    <tr>\n",
              "      <th>4</th>\n",
              "      <td>101M</td>\n",
              "      <td>MVLSEGEWQLVLHVWAKVEADVAGHGQDILIRLFKSHPETLEKFDR...</td>\n",
              "    </tr>\n",
              "    <tr>\n",
              "      <th>7</th>\n",
              "      <td>102L</td>\n",
              "      <td>MNIFEMLRIDEGLRLKIYKDTEGYYTIGIGHLLTKSPSLNAAAKSE...</td>\n",
              "    </tr>\n",
              "    <tr>\n",
              "      <th>8</th>\n",
              "      <td>102M</td>\n",
              "      <td>MVLSEGEWQLVLHVWAKVEADVAGHGQDILIRLFKSHPETLEKFDR...</td>\n",
              "    </tr>\n",
              "    <tr>\n",
              "      <th>11</th>\n",
              "      <td>103L</td>\n",
              "      <td>MNIFEMLRIDEGLRLKIYKDTEGYYTIGIGHLLTKSPSLNSLDAAK...</td>\n",
              "    </tr>\n",
              "    <tr>\n",
              "      <th>12</th>\n",
              "      <td>103M</td>\n",
              "      <td>MVLSEGEWQLVLHVWAKVEADVAGHGQDILIRLFKSHPETLEKFDR...</td>\n",
              "    </tr>\n",
              "  </tbody>\n",
              "</table>\n",
              "</div>"
            ],
            "text/plain": [
              "   structureId                                           sequence\n",
              "4         101M  MVLSEGEWQLVLHVWAKVEADVAGHGQDILIRLFKSHPETLEKFDR...\n",
              "7         102L  MNIFEMLRIDEGLRLKIYKDTEGYYTIGIGHLLTKSPSLNAAAKSE...\n",
              "8         102M  MVLSEGEWQLVLHVWAKVEADVAGHGQDILIRLFKSHPETLEKFDR...\n",
              "11        103L  MNIFEMLRIDEGLRLKIYKDTEGYYTIGIGHLLTKSPSLNSLDAAK...\n",
              "12        103M  MVLSEGEWQLVLHVWAKVEADVAGHGQDILIRLFKSHPETLEKFDR..."
            ]
          },
          "metadata": {
            "tags": []
          },
          "execution_count": 4
        }
      ]
    },
    {
      "cell_type": "code",
      "metadata": {
        "id": "vYCQB7eOly1s",
        "outputId": "0590b52f-fb9d-4767-bc19-b23cac67f714",
        "colab": {
          "base_uri": "https://localhost:8080/",
          "height": 204
        }
      },
      "source": [
        "protein_char.head()"
      ],
      "execution_count": null,
      "outputs": [
        {
          "output_type": "execute_result",
          "data": {
            "text/html": [
              "<div>\n",
              "<style scoped>\n",
              "    .dataframe tbody tr th:only-of-type {\n",
              "        vertical-align: middle;\n",
              "    }\n",
              "\n",
              "    .dataframe tbody tr th {\n",
              "        vertical-align: top;\n",
              "    }\n",
              "\n",
              "    .dataframe thead th {\n",
              "        text-align: right;\n",
              "    }\n",
              "</style>\n",
              "<table border=\"1\" class=\"dataframe\">\n",
              "  <thead>\n",
              "    <tr style=\"text-align: right;\">\n",
              "      <th></th>\n",
              "      <th>structureId</th>\n",
              "      <th>classification</th>\n",
              "    </tr>\n",
              "  </thead>\n",
              "  <tbody>\n",
              "    <tr>\n",
              "      <th>2</th>\n",
              "      <td>101M</td>\n",
              "      <td>OXYGEN TRANSPORT</td>\n",
              "    </tr>\n",
              "    <tr>\n",
              "      <th>4</th>\n",
              "      <td>102L</td>\n",
              "      <td>HYDROLASE(O-GLYCOSYL)</td>\n",
              "    </tr>\n",
              "    <tr>\n",
              "      <th>5</th>\n",
              "      <td>102M</td>\n",
              "      <td>OXYGEN TRANSPORT</td>\n",
              "    </tr>\n",
              "    <tr>\n",
              "      <th>7</th>\n",
              "      <td>103L</td>\n",
              "      <td>HYDROLASE(O-GLYCOSYL)</td>\n",
              "    </tr>\n",
              "    <tr>\n",
              "      <th>8</th>\n",
              "      <td>103M</td>\n",
              "      <td>OXYGEN TRANSPORT</td>\n",
              "    </tr>\n",
              "  </tbody>\n",
              "</table>\n",
              "</div>"
            ],
            "text/plain": [
              "  structureId         classification\n",
              "2        101M       OXYGEN TRANSPORT\n",
              "4        102L  HYDROLASE(O-GLYCOSYL)\n",
              "5        102M       OXYGEN TRANSPORT\n",
              "7        103L  HYDROLASE(O-GLYCOSYL)\n",
              "8        103M       OXYGEN TRANSPORT"
            ]
          },
          "metadata": {
            "tags": []
          },
          "execution_count": 5
        }
      ]
    },
    {
      "cell_type": "code",
      "metadata": {
        "id": "Pshfogo-lzkZ",
        "outputId": "b451b00b-ab36-4339-b9fa-1265a15e50d4",
        "colab": {
          "base_uri": "https://localhost:8080/",
          "height": 235
        }
      },
      "source": [
        "model_f = protein_char.set_index('structureId').join(protein_seq.set_index('structureId'))\n",
        "model_f.head()"
      ],
      "execution_count": null,
      "outputs": [
        {
          "output_type": "execute_result",
          "data": {
            "text/html": [
              "<div>\n",
              "<style scoped>\n",
              "    .dataframe tbody tr th:only-of-type {\n",
              "        vertical-align: middle;\n",
              "    }\n",
              "\n",
              "    .dataframe tbody tr th {\n",
              "        vertical-align: top;\n",
              "    }\n",
              "\n",
              "    .dataframe thead th {\n",
              "        text-align: right;\n",
              "    }\n",
              "</style>\n",
              "<table border=\"1\" class=\"dataframe\">\n",
              "  <thead>\n",
              "    <tr style=\"text-align: right;\">\n",
              "      <th></th>\n",
              "      <th>classification</th>\n",
              "      <th>sequence</th>\n",
              "    </tr>\n",
              "    <tr>\n",
              "      <th>structureId</th>\n",
              "      <th></th>\n",
              "      <th></th>\n",
              "    </tr>\n",
              "  </thead>\n",
              "  <tbody>\n",
              "    <tr>\n",
              "      <th>101M</th>\n",
              "      <td>OXYGEN TRANSPORT</td>\n",
              "      <td>MVLSEGEWQLVLHVWAKVEADVAGHGQDILIRLFKSHPETLEKFDR...</td>\n",
              "    </tr>\n",
              "    <tr>\n",
              "      <th>102L</th>\n",
              "      <td>HYDROLASE(O-GLYCOSYL)</td>\n",
              "      <td>MNIFEMLRIDEGLRLKIYKDTEGYYTIGIGHLLTKSPSLNAAAKSE...</td>\n",
              "    </tr>\n",
              "    <tr>\n",
              "      <th>102M</th>\n",
              "      <td>OXYGEN TRANSPORT</td>\n",
              "      <td>MVLSEGEWQLVLHVWAKVEADVAGHGQDILIRLFKSHPETLEKFDR...</td>\n",
              "    </tr>\n",
              "    <tr>\n",
              "      <th>103L</th>\n",
              "      <td>HYDROLASE(O-GLYCOSYL)</td>\n",
              "      <td>MNIFEMLRIDEGLRLKIYKDTEGYYTIGIGHLLTKSPSLNSLDAAK...</td>\n",
              "    </tr>\n",
              "    <tr>\n",
              "      <th>103M</th>\n",
              "      <td>OXYGEN TRANSPORT</td>\n",
              "      <td>MVLSEGEWQLVLHVWAKVEADVAGHGQDILIRLFKSHPETLEKFDR...</td>\n",
              "    </tr>\n",
              "  </tbody>\n",
              "</table>\n",
              "</div>"
            ],
            "text/plain": [
              "                    classification                                           sequence\n",
              "structureId                                                                          \n",
              "101M              OXYGEN TRANSPORT  MVLSEGEWQLVLHVWAKVEADVAGHGQDILIRLFKSHPETLEKFDR...\n",
              "102L         HYDROLASE(O-GLYCOSYL)  MNIFEMLRIDEGLRLKIYKDTEGYYTIGIGHLLTKSPSLNAAAKSE...\n",
              "102M              OXYGEN TRANSPORT  MVLSEGEWQLVLHVWAKVEADVAGHGQDILIRLFKSHPETLEKFDR...\n",
              "103L         HYDROLASE(O-GLYCOSYL)  MNIFEMLRIDEGLRLKIYKDTEGYYTIGIGHLLTKSPSLNSLDAAK...\n",
              "103M              OXYGEN TRANSPORT  MVLSEGEWQLVLHVWAKVEADVAGHGQDILIRLFKSHPETLEKFDR..."
            ]
          },
          "metadata": {
            "tags": []
          },
          "execution_count": 6
        }
      ]
    },
    {
      "cell_type": "code",
      "metadata": {
        "id": "nRM9FFwdl2Ko",
        "outputId": "bac02a97-0236-444a-9a91-c822345a54bd",
        "colab": {
          "base_uri": "https://localhost:8080/"
        }
      },
      "source": [
        "# Check NA counts\n",
        "model_f.isnull().sum()"
      ],
      "execution_count": null,
      "outputs": [
        {
          "output_type": "execute_result",
          "data": {
            "text/plain": [
              "classification      1\n",
              "sequence          469\n",
              "dtype: int64"
            ]
          },
          "metadata": {
            "tags": []
          },
          "execution_count": 7
        }
      ]
    },
    {
      "cell_type": "code",
      "metadata": {
        "id": "yNk7myMFl6bl",
        "outputId": "40b5da0c-0ca8-4ecf-d1da-ab62fa716273",
        "colab": {
          "base_uri": "https://localhost:8080/"
        }
      },
      "source": [
        "# Drop rows with missing values\n",
        "model_f = model_f.dropna()\n",
        "print('%d is the number of proteins that have a classification and sequence' %model_f.shape[0])"
      ],
      "execution_count": null,
      "outputs": [
        {
          "output_type": "stream",
          "text": [
            "345197 is the number of proteins that have a classification and sequence\n"
          ],
          "name": "stdout"
        }
      ]
    },
    {
      "cell_type": "code",
      "metadata": {
        "id": "Ky8Z0C1Zl88F",
        "outputId": "82c2dfd3-5ccf-4a07-999d-88e5e7abbae6",
        "colab": {
          "base_uri": "https://localhost:8080/",
          "height": 553
        }
      },
      "source": [
        "# Look at classification type counts\n",
        "counts = model_f.classification.value_counts()\n",
        "print(counts)\n",
        "\n",
        "#plot counts\n",
        "plt.figure()\n",
        "sns.distplot(counts, hist = False, color = 'purple')\n",
        "plt.title('Count Distribution for Family Types')\n",
        "plt.ylabel('% of records')\n",
        "plt.show()"
      ],
      "execution_count": null,
      "outputs": [
        {
          "output_type": "stream",
          "text": [
            "HYDROLASE                              46193\n",
            "TRANSFERASE                            36264\n",
            "OXIDOREDUCTASE                         34223\n",
            "IMMUNE SYSTEM                          15586\n",
            "LYASE                                  11644\n",
            "                                       ...  \n",
            "Actin-BINDING PROTEIN                      1\n",
            "YJQ8WW DOMAIN                              1\n",
            "ATP binding Protein                        1\n",
            "STRUCTURAL PROTEIN, DE NOVO PROTEIN        1\n",
            "TRANSLATION, RIBOSOME                      1\n",
            "Name: classification, Length: 4458, dtype: int64\n"
          ],
          "name": "stdout"
        },
        {
          "output_type": "stream",
          "text": [
            "/usr/local/lib/python3.6/dist-packages/seaborn/distributions.py:2551: FutureWarning: `distplot` is a deprecated function and will be removed in a future version. Please adapt your code to use either `displot` (a figure-level function with similar flexibility) or `kdeplot` (an axes-level function for kernel density plots).\n",
            "  warnings.warn(msg, FutureWarning)\n"
          ],
          "name": "stderr"
        },
        {
          "output_type": "display_data",
          "data": {
            "image/png": "[encoded data removed]",
            "text/plain": [
              "<Figure size 432x288 with 1 Axes>"
            ]
          },
          "metadata": {
            "tags": [],
            "needs_background": "light"
          }
        }
      ]
    },
    {
      "cell_type": "code",
      "metadata": {
        "id": "tSYyQnNlPz0f",
        "outputId": "6c98d82d-a2ed-4384-b0c7-e3ac111ac93b",
        "colab": {
          "base_uri": "https://localhost:8080/"
        }
      },
      "source": [
        "print(counts['HYDROLASE'])\n",
        "print(counts['LIGASE'])\n",
        "print(counts['TRANSFERASE'])\n",
        "print(counts['OXIDOREDUCTASE'])\n",
        "print(counts['ISOMERASE'])\n",
        "print(counts['LYASE'])"
      ],
      "execution_count": null,
      "outputs": [
        {
          "output_type": "stream",
          "text": [
            "46193\n",
            "4926\n",
            "36264\n",
            "34223\n",
            "6345\n",
            "11644\n"
          ],
          "name": "stdout"
        }
      ]
    },
    {
      "cell_type": "code",
      "metadata": {
        "id": "8IXiqK1s6DOG"
      },
      "source": [
        "max_length=model_f[\"sequence\"].str.len().max()"
      ],
      "execution_count": null,
      "outputs": []
    },
    {
      "cell_type": "code",
      "metadata": {
        "id": "3MnX7IRql_u_",
        "outputId": "71d7c962-68ee-4dd0-c488-6eeb72c85bd9",
        "colab": {
          "base_uri": "https://localhost:8080/"
        }
      },
      "source": [
        "# Get classification types where counts are over 1000\n",
        "#types = np.asarray(counts[(counts > 1000)].index)\n",
        "types=['HYDROLASE'\n",
        ",'LIGASE'\n",
        ",'TRANSFERASE'\n",
        ",'OXIDOREDUCTASE'\n",
        ",'ISOMERASE'\n",
        ",'LYASE']\n",
        "\n",
        "# Filter dataset's records for classification types > 1000\n",
        "data = model_f[model_f.classification.isin(types)]\n",
        "\n",
        "#data_m = data[(data['classification'] =='HYDROLASE' )  (data['classification'] =='LIGASE' ) or (data['classification'] =='TRANSFERASE' ) or (data['classification'] =='OXIDOREDUCTASE' ) or (data['classification'] =='ISOMERASE' ) or (data['classification'] =='LYASE' )]\n",
        "\n",
        "print(types)\n",
        "print('%d is the number of records in the final filtered dataset' %data.shape[0])"
      ],
      "execution_count": null,
      "outputs": [
        {
          "output_type": "stream",
          "text": [
            "['HYDROLASE', 'LIGASE', 'TRANSFERASE', 'OXIDOREDUCTASE', 'ISOMERASE', 'LYASE']\n",
            "139595 is the number of records in the final filtered dataset\n"
          ],
          "name": "stdout"
        }
      ]
    },
    {
      "cell_type": "code",
      "metadata": {
        "id": "ocFhz6J0mCnU",
        "outputId": "423b9e6b-e54a-40d0-db05-617d5c402715",
        "colab": {
          "base_uri": "https://localhost:8080/"
        }
      },
      "source": [
        "train=data\n",
        "a=train.classification.unique()\n",
        "l=len(train.classification.unique())\n",
        "print(a)"
      ],
      "execution_count": null,
      "outputs": [
        {
          "output_type": "stream",
          "text": [
            "['HYDROLASE' 'LIGASE' 'TRANSFERASE' 'OXIDOREDUCTASE' 'ISOMERASE' 'LYASE']\n"
          ],
          "name": "stdout"
        }
      ]
    },
    {
      "cell_type": "code",
      "metadata": {
        "id": "10ZcX8vTmaOL",
        "outputId": "fffa50c4-956d-4a47-bff3-91902e0e2bd1",
        "colab": {
          "base_uri": "https://localhost:8080/"
        }
      },
      "source": [
        "for i in range (l):\n",
        "    train.classification = train.classification.replace(a[i], i)"
      ],
      "execution_count": null,
      "outputs": [
        {
          "output_type": "stream",
          "text": [
            "/usr/local/lib/python3.6/dist-packages/pandas/core/generic.py:5168: SettingWithCopyWarning: \n",
            "A value is trying to be set on a copy of a slice from a DataFrame.\n",
            "Try using .loc[row_indexer,col_indexer] = value instead\n",
            "\n",
            "See the caveats in the documentation: https://pandas.pydata.org/pandas-docs/stable/user_guide/indexing.html#returning-a-view-versus-a-copy\n",
            "  self[name] = value\n"
          ],
          "name": "stderr"
        }
      ]
    },
    {
      "cell_type": "code",
      "metadata": {
        "id": "ocjki6hTmdGp",
        "outputId": "8324e541-38c3-42af-d6f3-b54690653a1f",
        "colab": {
          "base_uri": "https://localhost:8080/"
        }
      },
      "source": [
        "train.classification.head()"
      ],
      "execution_count": null,
      "outputs": [
        {
          "output_type": "execute_result",
          "data": {
            "text/plain": [
              "structureId\n",
              "117E    0\n",
              "117E    0\n",
              "11AS    1\n",
              "11AS    1\n",
              "11BA    0\n",
              "Name: classification, dtype: int64"
            ]
          },
          "metadata": {
            "tags": []
          },
          "execution_count": 15
        }
      ]
    },
    {
      "cell_type": "code",
      "metadata": {
        "id": "x4wsc-homfT0",
        "outputId": "6758b6b2-4555-4b81-d628-84ea8fc6bd34",
        "colab": {
          "base_uri": "https://localhost:8080/"
        }
      },
      "source": [
        "train.classification.value_counts()"
      ],
      "execution_count": null,
      "outputs": [
        {
          "output_type": "execute_result",
          "data": {
            "text/plain": [
              "0    46193\n",
              "2    36264\n",
              "3    34223\n",
              "5    11644\n",
              "4     6345\n",
              "1     4926\n",
              "Name: classification, dtype: int64"
            ]
          },
          "metadata": {
            "tags": []
          },
          "execution_count": 16
        }
      ]
    },
    {
      "cell_type": "code",
      "metadata": {
        "id": "NU4FF9iVkzef",
        "outputId": "99bcc108-4df0-448a-f0f3-607dd664b0e4",
        "colab": {
          "base_uri": "https://localhost:8080/",
          "height": 235
        }
      },
      "source": [
        "df=train\n",
        "df.head()"
      ],
      "execution_count": null,
      "outputs": [
        {
          "output_type": "execute_result",
          "data": {
            "text/html": [
              "<div>\n",
              "<style scoped>\n",
              "    .dataframe tbody tr th:only-of-type {\n",
              "        vertical-align: middle;\n",
              "    }\n",
              "\n",
              "    .dataframe tbody tr th {\n",
              "        vertical-align: top;\n",
              "    }\n",
              "\n",
              "    .dataframe thead th {\n",
              "        text-align: right;\n",
              "    }\n",
              "</style>\n",
              "<table border=\"1\" class=\"dataframe\">\n",
              "  <thead>\n",
              "    <tr style=\"text-align: right;\">\n",
              "      <th></th>\n",
              "      <th>classification</th>\n",
              "      <th>sequence</th>\n",
              "    </tr>\n",
              "    <tr>\n",
              "      <th>structureId</th>\n",
              "      <th></th>\n",
              "      <th></th>\n",
              "    </tr>\n",
              "  </thead>\n",
              "  <tbody>\n",
              "    <tr>\n",
              "      <th>117E</th>\n",
              "      <td>0</td>\n",
              "      <td>TYTTRQIGAKNTLEYKVYIEKDGKPVSAFHDIPLYADKENNIFNMV...</td>\n",
              "    </tr>\n",
              "    <tr>\n",
              "      <th>117E</th>\n",
              "      <td>0</td>\n",
              "      <td>TYTTRQIGAKNTLEYKVYIEKDGKPVSAFHDIPLYADKENNIFNMV...</td>\n",
              "    </tr>\n",
              "    <tr>\n",
              "      <th>11AS</th>\n",
              "      <td>1</td>\n",
              "      <td>MKTAYIAKQRQISFVKSHFSRQLEERLGLIEVQAPILSRVGDGTQD...</td>\n",
              "    </tr>\n",
              "    <tr>\n",
              "      <th>11AS</th>\n",
              "      <td>1</td>\n",
              "      <td>MKTAYIAKQRQISFVKSHFSRQLEERLGLIEVQAPILSRVGDGTQD...</td>\n",
              "    </tr>\n",
              "    <tr>\n",
              "      <th>11BA</th>\n",
              "      <td>0</td>\n",
              "      <td>KESAAAKFERQHMDSGNSPSSSSNYCNLMMCCRKMTQGKCKPVNTF...</td>\n",
              "    </tr>\n",
              "  </tbody>\n",
              "</table>\n",
              "</div>"
            ],
            "text/plain": [
              "             classification                                           sequence\n",
              "structureId                                                                   \n",
              "117E                      0  TYTTRQIGAKNTLEYKVYIEKDGKPVSAFHDIPLYADKENNIFNMV...\n",
              "117E                      0  TYTTRQIGAKNTLEYKVYIEKDGKPVSAFHDIPLYADKENNIFNMV...\n",
              "11AS                      1  MKTAYIAKQRQISFVKSHFSRQLEERLGLIEVQAPILSRVGDGTQD...\n",
              "11AS                      1  MKTAYIAKQRQISFVKSHFSRQLEERLGLIEVQAPILSRVGDGTQD...\n",
              "11BA                      0  KESAAAKFERQHMDSGNSPSSSSNYCNLMMCCRKMTQGKCKPVNTF..."
            ]
          },
          "metadata": {
            "tags": []
          },
          "execution_count": 20
        }
      ]
    },
    {
      "cell_type": "code",
      "metadata": {
        "id": "p0IQ8UpllFp6"
      },
      "source": [
        "X=df['sequence']\n",
        "Y=df['classification']"
      ],
      "execution_count": null,
      "outputs": []
    },
    {
      "cell_type": "code",
      "metadata": {
        "id": "2kwRGxyAdfY1",
        "outputId": "94e0f5e8-3fd7-48d8-8e78-99550441af48",
        "colab": {
          "base_uri": "https://localhost:8080/"
        }
      },
      "source": [
        "# 3). ----- Train Test Split -----\n",
        "\n",
        "# Split Data\n",
        "X_train, X_test,y_train,y_test = train_test_split(X, Y, test_size = 0.10, random_state = 1)\n",
        "\n",
        "# Create a Count Vectorizer to gather the unique elements in sequence\n",
        "vect = CountVectorizer(analyzer = 'char_wb', ngram_range = (4,4))\n",
        "\n",
        "# Fit and Transform CountVectorizer\n",
        "vect.fit(X_train)\n",
        "X_train_df = vect.transform(X_train)\n",
        "X_test_df = vect.transform(X_test)\n",
        "\n",
        "#Print a few of the features\n",
        "print(vect.get_feature_names()[-20:])"
      ],
      "execution_count": null,
      "outputs": [
        {
          "output_type": "stream",
          "text": [
            "['zhhh', 'ziar', 'zigi', 'ziwz', 'zkal', 'zkky', 'zknt', 'zkyh', 'zlik', 'zlzk', 'zpvm', 'zrgd', 'zrvi', 'ztvl', 'ztzk', 'zvbd', 'zvib', 'zvka', 'zwdl', 'zzvb']\n"
          ],
          "name": "stdout"
        }
      ]
    },
    {
      "cell_type": "code",
      "metadata": {
        "id": "LtelGE_Ydtzp",
        "outputId": "3779899b-1cec-49cc-829d-c1c28597a337",
        "colab": {
          "base_uri": "https://localhost:8080/"
        }
      },
      "source": [
        "# 4). ------ Machine Learning Models ------\n",
        "\n",
        "# Make a prediction dictionary to store accuracys\n",
        "prediction = dict()\n",
        "\n",
        "# Naive Bayes Model\n",
        "from sklearn.naive_bayes import MultinomialNB\n",
        "model = MultinomialNB()\n",
        "model.fit(X_train_df, y_train)\n",
        "predicted_classes = model.predict(X_test_df)\n",
        "prediction[\"MultinomialNB\"] = accuracy_score(predicted_classes, y_test)\n",
        "print( prediction['MultinomialNB'])"
      ],
      "execution_count": null,
      "outputs": [
        {
          "output_type": "stream",
          "text": [
            "0.9208452722063037\n"
          ],
          "name": "stdout"
        }
      ]
    },
    {
      "cell_type": "code",
      "metadata": {
        "id": "x9ykmxWl5bWg",
        "outputId": "031d98dc-887f-4e22-d7b6-abcd7e164014",
        "colab": {
          "base_uri": "https://localhost:8080/"
        }
      },
      "source": [
        "from sklearn.metrics import classification_report\n",
        "target_names = [\"Class {}\".format(i) for i in range(6)]\n",
        "print(classification_report(y_test, predicted_classes, target_names=target_names))"
      ],
      "execution_count": null,
      "outputs": [
        {
          "output_type": "stream",
          "text": [
            "              precision    recall  f1-score   support\n",
            "\n",
            "     Class 0       0.92      0.94      0.93      4689\n",
            "     Class 1       0.90      0.85      0.87       513\n",
            "     Class 2       0.88      0.94      0.91      3570\n",
            "     Class 3       0.97      0.90      0.93      3453\n",
            "     Class 4       0.93      0.90      0.92       608\n",
            "     Class 5       0.94      0.89      0.92      1127\n",
            "\n",
            "    accuracy                           0.92     13960\n",
            "   macro avg       0.92      0.90      0.91     13960\n",
            "weighted avg       0.92      0.92      0.92     13960\n",
            "\n"
          ],
          "name": "stdout"
        }
      ]
    },
    {
      "cell_type": "code",
      "metadata": {
        "id": "h2Lcskog7myA"
      },
      "source": [
        "name=[]\n",
        "for i in range(6):\n",
        "  name.append(i)\n"
      ],
      "execution_count": null,
      "outputs": []
    },
    {
      "cell_type": "code",
      "metadata": {
        "id": "-M7KnWlAgpRQ",
        "outputId": "462ec0c2-0535-4e62-b423-d73530f82e8f",
        "colab": {
          "base_uri": "https://localhost:8080/",
          "height": 500
        }
      },
      "source": [
        "# Plot confusion matrix\n",
        "conf_mat = confusion_matrix(y_test, predicted_classes, labels = name)\n",
        "\n",
        "#Normalize confusion_matrix\n",
        "conf_mat = conf_mat.astype('float')/ conf_mat.sum(axis=1)[:, np.newaxis]\n",
        "\n",
        "# Plot Heat Map\n",
        "fig , ax = plt.subplots()\n",
        "fig.set_size_inches(13, 8)\n",
        "sns.heatmap(conf_mat)"
      ],
      "execution_count": null,
      "outputs": [
        {
          "output_type": "execute_result",
          "data": {
            "text/plain": [
              "<matplotlib.axes._subplots.AxesSubplot at 0x7fbcb5ce6dd8>"
            ]
          },
          "metadata": {
            "tags": []
          },
          "execution_count": 33
        },
        {
          "output_type": "display_data",
          "data": {
            "image/png": "[encoded data removed]",
            "text/plain": [
              "<Figure size 936x576 with 2 Axes>"
            ]
          },
          "metadata": {
            "tags": [],
            "needs_background": "light"
          }
        }
      ]
    },
    {
      "cell_type": "code",
      "metadata": {
        "id": "-ytHKWwV24Rt",
        "outputId": "80821c17-04f8-4af4-8732-5394def996f0",
        "colab": {
          "base_uri": "https://localhost:8080/",
          "height": 860
        }
      },
      "source": [
        "print(__doc__)\n",
        "\n",
        "import itertools\n",
        "import numpy as np\n",
        "import matplotlib.pyplot as plt\n",
        "\n",
        "from sklearn import svm, datasets\n",
        "from sklearn.model_selection import train_test_split\n",
        "from sklearn.metrics import confusion_matrix\n",
        "\n",
        "\n",
        "class_names = name\n",
        "\n",
        "def plot_confusion_matrix(cm, classes,\n",
        "                          normalize=False,\n",
        "                          title='Confusion matrix',\n",
        "                          cmap=plt.cm.Blues):\n",
        "    \"\"\"\n",
        "    This function prints and plots the confusion matrix.\n",
        "    Normalization can be applied by setting `normalize=True`.\n",
        "    \"\"\"\n",
        "    if normalize:\n",
        "        cm = cm.astype('float') / cm.sum(axis=1)[:, np.newaxis]\n",
        "        print(\"Normalized confusion matrix\")\n",
        "    else:\n",
        "        print('Confusion matrix, without normalization')\n",
        "\n",
        "    print(cm)\n",
        "\n",
        "    plt.imshow(cm, interpolation='nearest', cmap=cmap)\n",
        "    plt.title(title)\n",
        "    plt.colorbar()\n",
        "    tick_marks = np.arange(len(classes))\n",
        "    plt.xticks(tick_marks, classes, rotation=0)\n",
        "    plt.yticks(tick_marks, classes)\n",
        "\n",
        "    fmt = '.2f' if normalize else 'd'\n",
        "    thresh = cm.max() / 2.\n",
        "    for i, j in itertools.product(range(cm.shape[0]), range(cm.shape[1])):\n",
        "        plt.text(j, i, format(cm[i, j], fmt),\n",
        "                 horizontalalignment=\"center\",\n",
        "                 color=\"white\" if cm[i, j] > thresh else \"black\")\n",
        "\n",
        "    plt.tight_layout()\n",
        "    plt.ylabel('True label')\n",
        "    plt.xlabel('Predicted label')\n",
        "\n",
        "# Compute confusion matrix\n",
        "cnf_matrix = confusion_matrix(y_test, predicted_classes)\n",
        "np.set_printoptions(precision=2)\n",
        "\n",
        "# Plot non-normalized confusion matrix\n",
        "plt.figure()\n",
        "plot_confusion_matrix(cnf_matrix, classes=class_names,\n",
        "                      title='Confusion matrix, without normalization')\n",
        "\n",
        "# Plot normalized confusion matrix\n",
        "plt.figure()\n",
        "plot_confusion_matrix(cnf_matrix, classes=class_names, normalize=True,\n",
        "                      title='Normalized confusion matrix')\n",
        "\n",
        "plt.show()"
      ],
      "execution_count": null,
      "outputs": [
        {
          "output_type": "stream",
          "text": [
            "Automatically created module for IPython interactive environment\n",
            "Confusion matrix, without normalization\n",
            "[[4392   28  185   50   16   18]\n",
            " [  30  436   39    6    0    2]\n",
            " [ 130   13 3366   31   12   18]\n",
            " [ 156    3  168 3110    2   14]\n",
            " [  20    0   23    9  548    8]\n",
            " [  62    4   44    4   10 1003]]\n",
            "Normalized confusion matrix\n",
            "[[9.37e-01 5.97e-03 3.95e-02 1.07e-02 3.41e-03 3.84e-03]\n",
            " [5.85e-02 8.50e-01 7.60e-02 1.17e-02 0.00e+00 3.90e-03]\n",
            " [3.64e-02 3.64e-03 9.43e-01 8.68e-03 3.36e-03 5.04e-03]\n",
            " [4.52e-02 8.69e-04 4.87e-02 9.01e-01 5.79e-04 4.05e-03]\n",
            " [3.29e-02 0.00e+00 3.78e-02 1.48e-02 9.01e-01 1.32e-02]\n",
            " [5.50e-02 3.55e-03 3.90e-02 3.55e-03 8.87e-03 8.90e-01]]\n"
          ],
          "name": "stdout"
        },
        {
          "output_type": "display_data",
          "data": {
            "image/png": "[encoded data removed]",
            "text/plain": [
              "<Figure size 432x288 with 2 Axes>"
            ]
          },
          "metadata": {
            "tags": [],
            "needs_background": "light"
          }
        },
        {
          "output_type": "display_data",
          "data": {
            "image/png": "[encoded data removed]",
            "text/plain": [
              "<Figure size 432x288 with 2 Axes>"
            ]
          },
          "metadata": {
            "tags": [],
            "needs_background": "light"
          }
        }
      ]
    },
    {
      "cell_type": "code",
      "metadata": {
        "id": "6RTj1X-w28Xu"
      },
      "source": [
        ""
      ],
      "execution_count": null,
      "outputs": []
    }
  ]
}